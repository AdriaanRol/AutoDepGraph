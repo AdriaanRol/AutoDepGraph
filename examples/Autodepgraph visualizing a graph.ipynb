{
 "cells": [
  {
   "cell_type": "markdown",
   "metadata": {
    "deletable": true,
    "editable": true
   },
   "source": [
    "\n",
    "# Visualizing a graph\n",
    "\n",
    "This example notebook focusses on the different visualization options autodepgraph supports. \n",
    "For use in an experimental context a good visualization of the current state of the graph is important. However, at the same time the required dependencies can be a bit problematic or messy. For this reason several plotting options exist: \n",
    "\n",
    "- Plotting using graphviz and pyqtgraph \n",
    "    - default option. \n",
    "    - positioning using the graphviz dot layout for directed graphs\n",
    "    - updates in real-time \n",
    "- Plotting using matplotlib \n",
    "    - rudimentary plot (live update note supported from a notebook)\n",
    "    - positioning using the spring layout (does not require graphviz) \n",
    "    \n",
    "- Plotting using hmtl \n",
    "    - uses pygraphviz to generate a dotfile and convert it to svg \n",
    "    - a live updating html page ensures the last version of the svg is shown\n",
    "- Writting to a dot file\n",
    "    - Useful when you want to use your own library for plotting\n",
    "    - Color denoting the state of nodes not supported yet \n",
    "- Disabling plotting\n",
    "    - For performance users\n",
    "\n",
    "\n",
    "The plotting mode can be controlled using the parameter `graph.cfg_plot_mode`\n"
   ]
  },
  {
   "cell_type": "code",
   "execution_count": 1,
   "metadata": {
    "collapsed": false,
    "deletable": true,
    "editable": true
   },
   "outputs": [
    {
     "name": "stdout",
     "output_type": "stream",
     "text": [
      "/Users/Adriaan/GitHubRepos/DiCarloLab_Repositories/AutoDepGraph/autodepgraph\n"
     ]
    }
   ],
   "source": [
    "from importlib import reload\n",
    "import os\n",
    "import autodepgraph as adg\n",
    "from autodepgraph.graph import Graph\n",
    "import matplotlib.pyplot as plt\n",
    "%matplotlib inline\n"
   ]
  },
  {
   "cell_type": "markdown",
   "metadata": {
    "deletable": true,
    "editable": true
   },
   "source": [
    "We start by creating a very basic graph "
   ]
  },
  {
   "cell_type": "code",
   "execution_count": 2,
   "metadata": {
    "collapsed": false,
    "deletable": true,
    "editable": true
   },
   "outputs": [],
   "source": [
    "test_graph = Graph('test_graph')\n",
    "test_graph.add_node('A')\n",
    "test_graph.add_node('B')\n",
    "test_graph.add_node('C')\n",
    "test_graph.add_node('D')\n",
    "test_graph.add_node('E')\n",
    "\n",
    "test_graph.E.parents(['D', 'C'])\n",
    "test_graph.D.parents(['B'])\n",
    "test_graph.C.parents(['A', 'B'])\n",
    "test_graph.B.parents(['A'])"
   ]
  },
  {
   "cell_type": "code",
   "execution_count": 3,
   "metadata": {
    "collapsed": false,
    "deletable": true,
    "editable": true
   },
   "outputs": [],
   "source": [
    "for node in [test_graph.A, test_graph.B, test_graph.C]:\n",
    "    # ensures we always walk back the entire tree, creates interesting visualizaiton\n",
    "    node.check_function('always_needs_calibration')\n",
    "    node.calibrate_function('test_calibration_True_delayed')\n",
    "    node.state('needs calibration')"
   ]
  },
  {
   "cell_type": "markdown",
   "metadata": {},
   "source": [
    "### pyqtgraph visualization "
   ]
  },
  {
   "cell_type": "code",
   "execution_count": 4,
   "metadata": {
    "collapsed": false,
    "scrolled": false
   },
   "outputs": [
    {
     "name": "stdout",
     "output_type": "stream",
     "text": [
      "Executing node \"B\".\n",
      "Executing node \"A\".\n",
      "\tCalibrating node A.\n",
      "\tCalibration of node A successful: True\n",
      "\tCalibrating node B.\n",
      "\tCalibration of node B successful: True\n"
     ]
    },
    {
     "data": {
      "text/plain": [
       "'good'"
      ]
     },
     "execution_count": 4,
     "metadata": {},
     "output_type": "execute_result"
    }
   ],
   "source": [
    "test_graph.cfg_plot_mode('pyqtgraph')\n",
    "test_graph.B() # call Node E "
   ]
  },
  {
   "cell_type": "markdown",
   "metadata": {},
   "source": [
    "### matplotlib visualization "
   ]
  },
  {
   "cell_type": "code",
   "execution_count": 6,
   "metadata": {
    "collapsed": true
   },
   "outputs": [],
   "source": [
    "test_graph.clear_node_state()\n",
    "for node in test_graph.nodes.values():\n",
    "    node.state('needs calibration')"
   ]
  },
  {
   "cell_type": "code",
   "execution_count": 8,
   "metadata": {
    "collapsed": false
   },
   "outputs": [
    {
     "name": "stdout",
     "output_type": "stream",
     "text": [
      "Executing node \"C\".\n",
      "\tCalibrating node C.\n",
      "\tCalibration of node C successful: True\n"
     ]
    },
    {
     "data": {
      "text/plain": [
       "'good'"
      ]
     },
     "execution_count": 8,
     "metadata": {},
     "output_type": "execute_result"
    },
    {
     "data": {
      "image/png": "[encoded data removed]",
      "text/plain": [
       "<matplotlib.figure.Figure at 0x124884588>"
      ]
     },
     "metadata": {},
     "output_type": "display_data"
    }
   ],
   "source": [
    "test_graph.cfg_plot_mode('matplotlib')\n",
    "test_graph.C() # call Node E "
   ]
  },
  {
   "cell_type": "markdown",
   "metadata": {},
   "source": [
    "## HTML visualization\n",
    "\n",
    "The html visualization uses a simple html file that auto updates an html file at a specific location. \n",
    "Opening this html file in the browser will open a liver view of the graph.\n",
    "The file is located in `autodepgraph/svg_viewer/svg_graph_viewer_html` and looks for a file located next to it. \n",
    "This filepath for the svg file is configurable through the parameter `cfg_svg_filename`. "
   ]
  },
  {
   "cell_type": "code",
   "execution_count": 10,
   "metadata": {
    "collapsed": false
   },
   "outputs": [
    {
     "data": {
      "text/plain": [
       "'/Users/Adriaan/GitHubRepos/DiCarloLab_Repositories/AutoDepGraph/autodepgraph/svg_viewer/adg_graph.svg'"
      ]
     },
     "execution_count": 10,
     "metadata": {},
     "output_type": "execute_result"
    }
   ],
   "source": [
    "# The svg file get's stored here \n",
    "test_graph.cfg_svg_filename()"
   ]
  },
  {
   "cell_type": "code",
   "execution_count": 12,
   "metadata": {
    "collapsed": false
   },
   "outputs": [
    {
     "name": "stdout",
     "output_type": "stream",
     "text": [
      "Executing node \"C\".\n",
      "Executing node \"A\".\n",
      "\tCalibrating node A.\n",
      "\tCalibration of node A successful: True\n",
      "Executing node \"B\".\n",
      "\tCalibrating node B.\n",
      "\tCalibration of node B successful: True\n",
      "\tCalibrating node C.\n",
      "\tCalibration of node C successful: True\n"
     ]
    },
    {
     "data": {
      "text/plain": [
       "'good'"
      ]
     },
     "execution_count": 12,
     "metadata": {},
     "output_type": "execute_result"
    }
   ],
   "source": [
    "test_graph.cfg_plot_mode('html')\n",
    "test_graph.clear_node_state()\n",
    "for node in test_graph.nodes.values():\n",
    "    node.state('needs calibration')\n",
    "test_graph.C()"
   ]
  },
  {
   "cell_type": "markdown",
   "metadata": {},
   "source": [
    "## Writing to a dotfile\n",
    "If you write your own visualization for dotfiles (or have a better tool than my html viewer) you can also configure autodepgraph to only write a dotfile. "
   ]
  },
  {
   "cell_type": "code",
   "execution_count": 13,
   "metadata": {
    "collapsed": false
   },
   "outputs": [
    {
     "name": "stdout",
     "output_type": "stream",
     "text": [
      "Executing node \"C\".\n",
      "Executing node \"A\".\n",
      "\tCalibrating node A.\n",
      "\tCalibration of node A successful: True\n",
      "Executing node \"B\".\n",
      "\tCalibrating node B.\n",
      "\tCalibration of node B successful: True\n",
      "\tCalibrating node C.\n",
      "\tCalibration of node C successful: True\n"
     ]
    },
    {
     "data": {
      "text/plain": [
       "'good'"
      ]
     },
     "execution_count": 13,
     "metadata": {},
     "output_type": "execute_result"
    }
   ],
   "source": [
    "\n",
    "test_graph.cfg_plot_mode('dotfile')\n",
    "test_graph.clear_node_state()\n",
    "for node in test_graph.nodes.values():\n",
    "    node.state('needs calibration')\n",
    "test_graph.C()"
   ]
  },
  {
   "cell_type": "markdown",
   "metadata": {},
   "source": [
    "## No visualization"
   ]
  },
  {
   "cell_type": "code",
   "execution_count": 15,
   "metadata": {
    "collapsed": false
   },
   "outputs": [
    {
     "name": "stdout",
     "output_type": "stream",
     "text": [
      "Executing node \"C\".\n",
      "\tChecking node C.\n",
      "\tNeeds C calibration: True\n",
      "\tNode C broken: False\n",
      "\tCalibrating node C.\n",
      "\tCalibration of node C successful: True\n"
     ]
    },
    {
     "data": {
      "text/plain": [
       "'good'"
      ]
     },
     "execution_count": 15,
     "metadata": {},
     "output_type": "execute_result"
    }
   ],
   "source": [
    "test_graph.cfg_plot_mode('None')\n",
    "test_graph.C() # call Node E "
   ]
  },
  {
   "cell_type": "markdown",
   "metadata": {
    "deletable": true,
    "editable": true
   },
   "source": [
    "### The monitor can also be updated by hand"
   ]
  },
  {
   "cell_type": "markdown",
   "metadata": {
    "collapsed": false,
    "deletable": true,
    "editable": true
   },
   "source": [
    "test_graph.update_monitor()"
   ]
  },
  {
   "cell_type": "markdown",
   "metadata": {},
   "source": [
    "## Finally we load a slightly more complex graph and see how it behaves"
   ]
  },
  {
   "cell_type": "code",
   "execution_count": 17,
   "metadata": {
    "collapsed": true
   },
   "outputs": [],
   "source": [
    "test_dir = os.path.join(adg.__path__[0], 'tests', 'test_data')\n",
    "fn = os.path.join(test_dir, 'rabi_sims_example_graph.yaml')\n",
    "rmg = Graph('Rabi_model_graph')\n",
    "rmg.load_graph(fn)"
   ]
  },
  {
   "cell_type": "code",
   "execution_count": 18,
   "metadata": {
    "collapsed": true
   },
   "outputs": [],
   "source": [
    "rmg.cfg_plot_mode('html')"
   ]
  },
  {
   "cell_type": "code",
   "execution_count": 22,
   "metadata": {
    "collapsed": false
   },
   "outputs": [
    {
     "name": "stdout",
     "output_type": "stream",
     "text": [
      "Executing node \"Rabi_simulation\".\n",
      "Executing node \"Wigner_tomography\".\n",
      "Executing node \"Photon_meter\".\n",
      "Executing node \"Trotter_chevron\".\n",
      "Executing node \"Chevron_amp\".\n",
      "Executing node \"High_fidelity_single_qubit_gates\".\n",
      "Executing node \"Amplitude_fine\".\n",
      "Executing node \"Motzoi\".\n",
      "Executing node \"Amplitude_coarse\".\n",
      "Executing node \"frequency_spec\".\n",
      "\tCalibrating node frequency_spec.\n",
      "\tCalibration of node frequency_spec successful: True\n",
      "Executing node \"mixer_offset\".\n",
      "\tCalibrating node mixer_offset.\n",
      "\tCalibration of node mixer_offset successful: True\n",
      "Executing node \"mixer_skewness\".\n",
      "\tCalibrating node mixer_skewness.\n",
      "\tCalibration of node mixer_skewness successful: True\n",
      "\tCalibrating node Amplitude_coarse.\n",
      "\tCalibration of node Amplitude_coarse successful: True\n",
      "Executing node \"frequency_ramsey\".\n",
      "Executing node \"SSRO\".\n",
      "\tCalibrating node SSRO.\n",
      "\tCalibration of node SSRO successful: True\n",
      "\tCalibrating node frequency_ramsey.\n",
      "\tCalibration of node frequency_ramsey successful: True\n",
      "\tCalibrating node Motzoi.\n",
      "\tCalibration of node Motzoi successful: True\n",
      "\tCalibrating node Amplitude_fine.\n",
      "\tCalibration of node Amplitude_fine successful: True\n",
      "\tCalibrating node High_fidelity_single_qubit_gates.\n",
      "\tCalibration of node High_fidelity_single_qubit_gates successful: True\n",
      "Executing node \"High_readout_fidelity\".\n",
      "\tCalibrating node High_readout_fidelity.\n",
      "\tCalibration of node High_readout_fidelity successful: True\n",
      "\tCalibrating node Chevron_amp.\n",
      "\tCalibration of node Chevron_amp successful: True\n",
      "\tCalibrating node Trotter_chevron.\n",
      "\tCalibration of node Trotter_chevron successful: True\n",
      "\tCalibrating node Photon_meter.\n",
      "\tCalibration of node Photon_meter successful: True\n",
      "\tCalibrating node Wigner_tomography.\n",
      "\tCalibration of node Wigner_tomography successful: True\n",
      "\tCalibrating node Rabi_simulation.\n",
      "\tCalibration of node Rabi_simulation successful: True\n"
     ]
    },
    {
     "data": {
      "text/plain": [
       "'good'"
      ]
     },
     "execution_count": 22,
     "metadata": {},
     "output_type": "execute_result"
    }
   ],
   "source": [
    "\n",
    "rmg.update_monitor()\n",
    "rmg.clear_node_state()\n",
    "for node in rmg.nodes.values():\n",
    "    node.state('needs calibration')\n",
    "rmg.update_monitor()\n",
    "\n",
    "rmg.Rabi_simulation()"
   ]
  },
  {
   "cell_type": "code",
   "execution_count": null,
   "metadata": {
    "collapsed": true
   },
   "outputs": [],
   "source": []
  }
 ],
 "metadata": {
  "kernelspec": {
   "display_name": "Python 3",
   "language": "python",
   "name": "python3"
  },
  "language_info": {
   "codemirror_mode": {
    "name": "ipython",
    "version": 3
   },
   "file_extension": ".py",
   "mimetype": "text/x-python",
   "name": "python",
   "nbconvert_exporter": "python",
   "pygments_lexer": "ipython3",
   "version": "3.6.0"
  }
 },
 "nbformat": 4,
 "nbformat_minor": 2
}
