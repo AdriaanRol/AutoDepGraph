{
 "cells": [
  {
   "cell_type": "markdown",
   "metadata": {
    "deletable": true,
    "editable": true
   },
   "source": [
    "\n",
    "# Visualizing a graph\n",
    "\n",
    "This example notebook focusses on the different visualization options autodepgraph supports. \n",
    "For use in an experimental context a good visualization of the current state of the graph is important. However, at the same time the required dependencies can be a bit problematic or messy. For this reason several plotting options exist: \n",
    "\n",
    "- Plotting using graphviz and pyqtgraph \n",
    "    - default option. \n",
    "    - positioning using the graphviz dot layout for directed graphs\n",
    "    - updates in real-time \n",
    "- Plotting using matplotlib \n",
    "    - rudimentary plot (live update note supported from a notebook)\n",
    "    - positioning using the spring layout (does not require graphviz) \n",
    "    \n",
    "- Writting to a dot file (in order to use an external library for the monitoring)\n",
    "    - Not supported yet \n",
    "    - Color denoting the state of nodes not supported yet \n",
    "- Disabling plotting\n",
    "    - For performance users\n",
    "\n",
    "\n",
    "The plotting mode can be controlled using the parameter `graph.cfg_plot_mode`\n"
   ]
  },
  {
   "cell_type": "code",
   "execution_count": 1,
   "metadata": {
    "collapsed": false,
    "deletable": true,
    "editable": true
   },
   "outputs": [],
   "source": [
    "from importlib import reload\n",
    "import os\n",
    "import autodepgraph as adg\n",
    "from autodepgraph.graph import Graph\n",
    "import matplotlib.pyplot as plt\n",
    "%matplotlib inline\n"
   ]
  },
  {
   "cell_type": "markdown",
   "metadata": {
    "deletable": true,
    "editable": true
   },
   "source": [
    "We start by creating a very basic graph "
   ]
  },
  {
   "cell_type": "code",
   "execution_count": 2,
   "metadata": {
    "collapsed": false,
    "deletable": true,
    "editable": true
   },
   "outputs": [],
   "source": [
    "test_graph = Graph('test_graph')\n",
    "test_graph.add_node('A')\n",
    "test_graph.add_node('B')\n",
    "test_graph.add_node('C')\n",
    "test_graph.add_node('D')\n",
    "test_graph.add_node('E')\n",
    "\n",
    "test_graph.E.parents(['D', 'C'])\n",
    "test_graph.D.parents(['B'])\n",
    "test_graph.C.parents(['A', 'B'])\n",
    "test_graph.B.parents(['A'])"
   ]
  },
  {
   "cell_type": "code",
   "execution_count": 35,
   "metadata": {
    "collapsed": false,
    "deletable": true,
    "editable": true
   },
   "outputs": [],
   "source": [
    "for node in test_graph.nodes.values():\n",
    "    # ensures we always walk back the entire tree, creates interesting visualizaiton\n",
    "    node.check_function('always_needs_calibration')\n",
    "    node.calibrate_function('test_calibration_True_delayed')\n",
    "    node.state('needs calibration')"
   ]
  },
  {
   "cell_type": "markdown",
   "metadata": {},
   "source": [
    "### pyqtgraph visualization "
   ]
  },
  {
   "cell_type": "code",
   "execution_count": 45,
   "metadata": {
    "collapsed": false,
    "scrolled": true
   },
   "outputs": [
    {
     "name": "stdout",
     "output_type": "stream",
     "text": [
      "Executing node \"E\".\n",
      "\tChecking node E.\n",
      "\tNeeds E calibration: True\n",
      "\tNode E broken: False\n",
      "\tCalibrating node E.\n",
      "\tCalibration of node E successful: True\n"
     ]
    },
    {
     "data": {
      "text/plain": [
       "'good'"
      ]
     },
     "execution_count": 45,
     "metadata": {},
     "output_type": "execute_result"
    }
   ],
   "source": [
    "test_graph.cfg_plot_mode('pyqtgraph')\n",
    "test_graph.E() # call Node E "
   ]
  },
  {
   "cell_type": "markdown",
   "metadata": {},
   "source": [
    "### matplotlib visualization "
   ]
  },
  {
   "cell_type": "code",
   "execution_count": 38,
   "metadata": {
    "collapsed": true
   },
   "outputs": [],
   "source": [
    "test_graph.clear_node_state()\n",
    "for node in test_graph.nodes.values():\n",
    "    node.state('needs calibration')"
   ]
  },
  {
   "cell_type": "code",
   "execution_count": 44,
   "metadata": {
    "collapsed": false
   },
   "outputs": [
    {
     "name": "stdout",
     "output_type": "stream",
     "text": [
      "Executing node \"E\".\n",
      "\tChecking node E.\n",
      "\tNeeds E calibration: True\n",
      "\tNode E broken: False\n",
      "\tCalibrating node E.\n",
      "\tCalibration of node E successful: True\n"
     ]
    },
    {
     "data": {
      "text/plain": [
       "'good'"
      ]
     },
     "execution_count": 44,
     "metadata": {},
     "output_type": "execute_result"
    },
    {
     "data": {
      "image/png": "[encoded data removed]",
      "text/plain": [
       "<matplotlib.figure.Figure at 0x11b2925c0>"
      ]
     },
     "metadata": {},
     "output_type": "display_data"
    }
   ],
   "source": [
    "test_graph.cfg_plot_mode('matplotlib')\n",
    "test_graph.E() # call Node E "
   ]
  },
  {
   "cell_type": "markdown",
   "metadata": {},
   "source": [
    "## No visualization"
   ]
  },
  {
   "cell_type": "code",
   "execution_count": 43,
   "metadata": {
    "collapsed": false
   },
   "outputs": [
    {
     "name": "stdout",
     "output_type": "stream",
     "text": [
      "Executing node \"E\".\n",
      "\tChecking node E.\n",
      "\tNeeds E calibration: True\n",
      "\tNode E broken: False\n",
      "\tCalibrating node E.\n",
      "\tCalibration of node E successful: True\n"
     ]
    },
    {
     "data": {
      "text/plain": [
       "'good'"
      ]
     },
     "execution_count": 43,
     "metadata": {},
     "output_type": "execute_result"
    }
   ],
   "source": [
    "test_graph.cfg_plot_mode('None')\n",
    "test_graph.E() # call Node E "
   ]
  },
  {
   "cell_type": "markdown",
   "metadata": {
    "deletable": true,
    "editable": true
   },
   "source": [
    "### The monitor can also be updated by hand"
   ]
  },
  {
   "cell_type": "code",
   "execution_count": 46,
   "metadata": {
    "collapsed": false,
    "deletable": true,
    "editable": true
   },
   "outputs": [],
   "source": [
    "test_graph.update_monitor()"
   ]
  },
  {
   "cell_type": "code",
   "execution_count": null,
   "metadata": {
    "collapsed": true
   },
   "outputs": [],
   "source": []
  }
 ],
 "metadata": {
  "kernelspec": {
   "display_name": "Python 3",
   "language": "python",
   "name": "python3"
  },
  "language_info": {
   "codemirror_mode": {
    "name": "ipython",
    "version": 3
   },
   "file_extension": ".py",
   "mimetype": "text/x-python",
   "name": "python",
   "nbconvert_exporter": "python",
   "pygments_lexer": "ipython3",
   "version": "3.6.0"
  }
 },
 "nbformat": 4,
 "nbformat_minor": 2
}
