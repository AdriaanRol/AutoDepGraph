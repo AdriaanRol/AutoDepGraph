{
 "cells": [
  {
   "cell_type": "markdown",
   "metadata": {
    "deletable": true,
    "editable": true
   },
   "source": [
    "\n",
    "# Example notebook\n",
    "\n",
    "This example will contain the following examples\n",
    "- Creating and saving a graph \n",
    "- Plotting the graph \n",
    "- Executing a node\n",
    "- Loading a graph from disk"
   ]
  },
  {
   "cell_type": "code",
   "execution_count": 21,
   "metadata": {
    "collapsed": false,
    "deletable": true,
    "editable": true
   },
   "outputs": [],
   "source": [
    "%matplotlib inline\n",
    "import matplotlib.pyplot as plt\n",
    "import networkx as nx\n",
    "from importlib import reload\n",
    "import os\n",
    "import autodepgraph as adg\n",
    "# from autodepgraph.graph import Graph\n",
    "import autodepgraph.graph_v2 as g\n",
    "reload(g)\n",
    "\n",
    "from autodepgraph.graph_v2 import AutoDepGraph_DAG\n"
   ]
  },
  {
   "cell_type": "markdown",
   "metadata": {
    "deletable": true,
    "editable": true
   },
   "source": [
    "## Creatinga custom graph\n",
    "A graph can be instantiated"
   ]
  },
  {
   "cell_type": "code",
   "execution_count": 2,
   "metadata": {
    "collapsed": true
   },
   "outputs": [],
   "source": [
    "cal_True_delayed=  'autodepgraph.node_functions.calibration_functions.test_calibration_True_delayed'\n",
    "test_graph = AutoDepGraph_DAG('test graph')\n",
    "for node in ['A', 'B', 'C', 'D', 'E']:\n",
    "    test_graph.add_node(node, calibrate_function=cal_True_delayed)"
   ]
  },
  {
   "cell_type": "markdown",
   "metadata": {
    "deletable": true,
    "editable": true
   },
   "source": [
    "Some nodes require other nodes to be in a `good` or calibrated state. Such dependencies are defined by setting edges in the graph. "
   ]
  },
  {
   "cell_type": "code",
   "execution_count": 9,
   "metadata": {
    "collapsed": false
   },
   "outputs": [],
   "source": [
    "test_graph.add_edge('C', 'A')\n",
    "test_graph.add_edge('C', 'B')\n",
    "test_graph.add_edge('B', 'A')\n",
    "test_graph.add_edge('D', 'A')\n",
    "test_graph.add_edge('E', 'D')"
   ]
  },
  {
   "cell_type": "code",
   "execution_count": 10,
   "metadata": {
    "collapsed": false
   },
   "outputs": [
    {
     "data": {
      "text/plain": [
       "'good'"
      ]
     },
     "execution_count": 10,
     "metadata": {},
     "output_type": "execute_result"
    }
   ],
   "source": [
    "test_graph.nodes()['C']['state']"
   ]
  },
  {
   "cell_type": "code",
   "execution_count": 11,
   "metadata": {
    "collapsed": false
   },
   "outputs": [
    {
     "name": "stdout",
     "output_type": "stream",
     "text": [
      "Maintaining node \"C\".\n",
      "\tChecking node C.\n",
      "\tNode C needs calibration.\n",
      "\tCalibrating node C.\n",
      "\tCalibration of node C successful.\n"
     ]
    },
    {
     "data": {
      "text/plain": [
       "'good'"
      ]
     },
     "execution_count": 11,
     "metadata": {},
     "output_type": "execute_result"
    }
   ],
   "source": [
    "test_graph.maintain_node('C', verbose=True)\n"
   ]
  },
  {
   "cell_type": "code",
   "execution_count": 7,
   "metadata": {
    "collapsed": false
   },
   "outputs": [
    {
     "data": {
      "image/png": "[encoded data removed]",
      "text/plain": [
       "<matplotlib.figure.Figure at 0x105ed6a20>"
      ]
     },
     "metadata": {},
     "output_type": "display_data"
    }
   ],
   "source": [
    "test_graph.draw_mpl()"
   ]
  },
  {
   "cell_type": "code",
   "execution_count": 12,
   "metadata": {
    "collapsed": true
   },
   "outputs": [],
   "source": [
    "test_graph.set_all_node_states('unknown')"
   ]
  },
  {
   "cell_type": "code",
   "execution_count": null,
   "metadata": {
    "collapsed": true
   },
   "outputs": [],
   "source": []
  },
  {
   "cell_type": "code",
   "execution_count": null,
   "metadata": {
    "collapsed": false,
    "deletable": true,
    "editable": true
   },
   "outputs": [],
   "source": []
  },
  {
   "cell_type": "code",
   "execution_count": 14,
   "metadata": {
    "collapsed": false,
    "deletable": true,
    "editable": true
   },
   "outputs": [],
   "source": [
    "# Update the plotting monitor (default matplotlib) to show your graph\n",
    "test_graph.update_monitor()"
   ]
  },
  {
   "cell_type": "code",
   "execution_count": 17,
   "metadata": {
    "collapsed": true
   },
   "outputs": [],
   "source": [
    "test_graph.set_all_node_states('needs calibration')"
   ]
  },
  {
   "cell_type": "code",
   "execution_count": 18,
   "metadata": {
    "collapsed": false
   },
   "outputs": [
    {
     "name": "stdout",
     "output_type": "stream",
     "text": [
      "Maintaining node \"E\".\n",
      "Maintaining node \"D\".\n",
      "Maintaining node \"A\".\n",
      "\tCalibrating node A.\n",
      "\tCalibration of node A successful.\n",
      "\tCalibrating node D.\n",
      "\tCalibration of node D successful.\n",
      "\tCalibrating node E.\n",
      "\tCalibration of node E successful.\n"
     ]
    },
    {
     "data": {
      "text/plain": [
       "'good'"
      ]
     },
     "execution_count": 18,
     "metadata": {},
     "output_type": "execute_result"
    }
   ],
   "source": [
    "test_graph.maintain_node('E')"
   ]
  },
  {
   "cell_type": "markdown",
   "metadata": {
    "deletable": true,
    "editable": true
   },
   "source": [
    "### Three qubit example\n",
    "\n",
    "This example shows a bit more realistic graph. "
   ]
  },
  {
   "cell_type": "code",
   "execution_count": 41,
   "metadata": {
    "collapsed": false,
    "deletable": true,
    "editable": true
   },
   "outputs": [],
   "source": [
    "test_dir = os.path.join(adg.__path__[0], 'tests', 'test_data')\n",
    "fn = os.path.join(test_dir, 'three_qubit_graph.yaml')\n",
    "DAG = nx.readwrite.read_yaml(fn)"
   ]
  },
  {
   "cell_type": "markdown",
   "metadata": {
    "deletable": true,
    "editable": true
   },
   "source": [
    "### Reset the state of all nodes"
   ]
  },
  {
   "cell_type": "code",
   "execution_count": 42,
   "metadata": {
    "collapsed": false,
    "deletable": true,
    "editable": true
   },
   "outputs": [],
   "source": [
    "DAG.set_all_node_states('needs calibration')\n",
    "DAG.update_monitor()\n",
    "# by default we update the svg file \n"
   ]
  },
  {
   "cell_type": "code",
   "execution_count": 44,
   "metadata": {
    "collapsed": false
   },
   "outputs": [
    {
     "data": {
      "text/plain": [
       "'good'"
      ]
     },
     "execution_count": 44,
     "metadata": {},
     "output_type": "execute_result"
    }
   ],
   "source": [
    "DAG.get_node_state('Chevron q0-q1')"
   ]
  },
  {
   "cell_type": "code",
   "execution_count": 43,
   "metadata": {
    "collapsed": false
   },
   "outputs": [
    {
     "name": "stdout",
     "output_type": "stream",
     "text": [
      "Maintaining node \"Chevron q0-q1\".\n",
      "Maintaining node \"3 qubit device multiplexed readout\".\n",
      "Maintaining node \"q0 optimal weights\".\n",
      "Maintaining node \"q0 pulse amplitude med\".\n",
      "Maintaining node \"q0 frequency fine\".\n",
      "Maintaining node \"q0 pulse amplitude coarse\".\n",
      "Maintaining node \"AWG8 MW-staircase\".\n",
      "\tCalibrating node AWG8 MW-staircase.\n",
      "\tCalibration of node AWG8 MW-staircase successful.\n",
      "Maintaining node \"q0 frequency coarse\".\n",
      "Maintaining node \"q0 resonator frequency\".\n",
      "Maintaining node \"3 qubit device resonator frequencies coarse\".\n",
      "\tCalibrating node 3 qubit device resonator frequencies coarse.\n",
      "\tCalibration of node 3 qubit device resonator frequencies coarse successful.\n",
      "\tCalibrating node q0 resonator frequency.\n",
      "\tCalibration of node q0 resonator frequency successful.\n",
      "\tCalibrating node q0 frequency coarse.\n",
      "\tCalibration of node q0 frequency coarse successful.\n",
      "Maintaining node \"q0 mixer offsets drive\".\n",
      "\tCalibrating node q0 mixer offsets drive.\n",
      "\tCalibration of node q0 mixer offsets drive successful.\n",
      "Maintaining node \"q0 mixer offsets readout\".\n",
      "\tCalibrating node q0 mixer offsets readout.\n",
      "\tCalibration of node q0 mixer offsets readout successful.\n",
      "Maintaining node \"q0 mixer skewness drive\".\n",
      "\tCalibrating node q0 mixer skewness drive.\n",
      "\tCalibration of node q0 mixer skewness drive successful.\n",
      "\tCalibrating node q0 pulse amplitude coarse.\n",
      "\tCalibration of node q0 pulse amplitude coarse successful.\n",
      "\tCalibrating node q0 frequency fine.\n",
      "\tCalibration of node q0 frequency fine successful.\n",
      "\tCalibrating node q0 pulse amplitude med.\n",
      "\tCalibration of node q0 pulse amplitude med successful.\n",
      "\tCalibrating node q0 optimal weights.\n",
      "\tCalibration of node q0 optimal weights successful.\n",
      "Maintaining node \"q1 optimal weights\".\n",
      "Maintaining node \"q1 pulse amplitude med\".\n",
      "Maintaining node \"q1 frequency fine\".\n",
      "Maintaining node \"q1 pulse amplitude coarse\".\n",
      "Maintaining node \"q1 frequency coarse\".\n",
      "Maintaining node \"q1 resonator frequency\".\n",
      "\tCalibrating node q1 resonator frequency.\n",
      "\tCalibration of node q1 resonator frequency successful.\n",
      "\tCalibrating node q1 frequency coarse.\n",
      "\tCalibration of node q1 frequency coarse successful.\n",
      "Maintaining node \"q1 mixer offsets drive\".\n",
      "\tCalibrating node q1 mixer offsets drive.\n",
      "\tCalibration of node q1 mixer offsets drive successful.\n",
      "Maintaining node \"q1 mixer offsets readout\".\n",
      "\tCalibrating node q1 mixer offsets readout.\n",
      "\tCalibration of node q1 mixer offsets readout successful.\n",
      "Maintaining node \"q1 mixer skewness drive\".\n",
      "\tCalibrating node q1 mixer skewness drive.\n",
      "\tCalibration of node q1 mixer skewness drive successful.\n",
      "\tCalibrating node q1 pulse amplitude coarse.\n",
      "\tCalibration of node q1 pulse amplitude coarse successful.\n",
      "\tCalibrating node q1 frequency fine.\n",
      "\tCalibration of node q1 frequency fine successful.\n",
      "\tCalibrating node q1 pulse amplitude med.\n",
      "\tCalibration of node q1 pulse amplitude med successful.\n",
      "\tCalibrating node q1 optimal weights.\n",
      "\tCalibration of node q1 optimal weights successful.\n",
      "Maintaining node \"q2 optimal weights\".\n",
      "Maintaining node \"q2 pulse amplitude med\".\n",
      "Maintaining node \"q2 frequency fine\".\n",
      "Maintaining node \"q2 pulse amplitude coarse\".\n",
      "Maintaining node \"q2 frequency coarse\".\n",
      "Maintaining node \"q2 resonator frequency\".\n",
      "\tCalibrating node q2 resonator frequency.\n",
      "\tCalibration of node q2 resonator frequency successful.\n",
      "\tCalibrating node q2 frequency coarse.\n",
      "\tCalibration of node q2 frequency coarse successful.\n",
      "Maintaining node \"q2 mixer offsets drive\".\n",
      "\tCalibrating node q2 mixer offsets drive.\n",
      "\tCalibration of node q2 mixer offsets drive successful.\n",
      "Maintaining node \"q2 mixer offsets readout\".\n",
      "\tCalibrating node q2 mixer offsets readout.\n",
      "\tCalibration of node q2 mixer offsets readout successful.\n",
      "Maintaining node \"q2 mixer skewness drive\".\n",
      "\tCalibrating node q2 mixer skewness drive.\n",
      "\tCalibration of node q2 mixer skewness drive successful.\n",
      "\tCalibrating node q2 pulse amplitude coarse.\n",
      "\tCalibration of node q2 pulse amplitude coarse successful.\n",
      "\tCalibrating node q2 frequency fine.\n",
      "\tCalibration of node q2 frequency fine successful.\n",
      "\tCalibrating node q2 pulse amplitude med.\n",
      "\tCalibration of node q2 pulse amplitude med successful.\n",
      "\tCalibrating node q2 optimal weights.\n",
      "\tCalibration of node q2 optimal weights successful.\n",
      "\tCalibrating node 3 qubit device multiplexed readout.\n",
      "\tCalibration of node 3 qubit device multiplexed readout successful.\n",
      "Maintaining node \"AWG8 Flux-staircase\".\n",
      "\tCalibrating node AWG8 Flux-staircase.\n",
      "\tCalibration of node AWG8 Flux-staircase successful.\n",
      "Maintaining node \"q0 gates restless\".\n",
      "\tCalibrating node q0 gates restless.\n",
      "\tCalibration of node q0 gates restless successful.\n",
      "Maintaining node \"q1 gates restless\".\n",
      "\tCalibrating node q1 gates restless.\n",
      "\tCalibration of node q1 gates restless successful.\n",
      "\tCalibrating node Chevron q0-q1.\n",
      "\tCalibration of node Chevron q0-q1 successful.\n"
     ]
    },
    {
     "data": {
      "text/plain": [
       "'good'"
      ]
     },
     "execution_count": 43,
     "metadata": {},
     "output_type": "execute_result"
    }
   ],
   "source": [
    "DAG.maintain_node('Chevron q0-q1')"
   ]
  },
  {
   "cell_type": "code",
   "execution_count": null,
   "metadata": {
    "collapsed": true
   },
   "outputs": [],
   "source": []
  }
 ],
 "metadata": {
  "kernelspec": {
   "display_name": "Python 3",
   "language": "python",
   "name": "python3"
  },
  "language_info": {
   "codemirror_mode": {
    "name": "ipython",
    "version": 3
   },
   "file_extension": ".py",
   "mimetype": "text/x-python",
   "name": "python",
   "nbconvert_exporter": "python",
   "pygments_lexer": "ipython3",
   "version": "3.6.0"
  }
 },
 "nbformat": 4,
 "nbformat_minor": 2
}
