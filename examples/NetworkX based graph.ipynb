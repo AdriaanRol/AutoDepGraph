{
 "cells": [
  {
   "cell_type": "code",
   "execution_count": 1,
   "metadata": {
    "collapsed": true
   },
   "outputs": [],
   "source": [
    "%matplotlib inline\n",
    "import networkx as nx"
   ]
  },
  {
   "cell_type": "code",
   "execution_count": 92,
   "metadata": {
    "collapsed": false
   },
   "outputs": [],
   "source": [
    "from importlib import reload\n",
    "import autodepgraph.graph_v2 as g\n",
    "reload(g)\n",
    "from autodepgraph.graph_v2 import AutoDepGraph_DAG"
   ]
  },
  {
   "cell_type": "code",
   "execution_count": 20,
   "metadata": {
    "collapsed": false
   },
   "outputs": [],
   "source": [
    "MyDag = AutoDepGraph_DAG(name='MyDAG')#, cfg_plot_mode='matplotlib')"
   ]
  },
  {
   "cell_type": "code",
   "execution_count": 21,
   "metadata": {
    "collapsed": false
   },
   "outputs": [],
   "source": [
    "cal_True_delayed=  'autodepgraph.node_functions.calibration_functions.test_calibration_True_delayed'\n",
    "MyDag.add_node('A', calibrate_function=cal_True_delayed)\n",
    "MyDag.add_node('B', calibrate_function=cal_True_delayed)\n",
    "MyDag.add_node('C', calibrate_function=cal_True_delayed)\n",
    "MyDag.add_node('D', calibrate_function=cal_True_delayed)\n",
    "MyDag.add_node('E', calibrate_function=cal_True_delayed)\n",
    "MyDag.add_node('F', calibrate_function=cal_True_delayed)"
   ]
  },
  {
   "cell_type": "code",
   "execution_count": 22,
   "metadata": {
    "collapsed": false
   },
   "outputs": [
    {
     "data": {
      "text/plain": [
       "{'calibrate_function': 'autodepgraph.node_functions.calibration_functions.test_calibration_True_delayed',\n",
       " 'check_function': 'autodepgraph.node_functions.check_functions.return_fixed_value',\n",
       " 'last_update': datetime.datetime(2018, 3, 14, 22, 31, 29, 44106),\n",
       " 'state': 'unknown',\n",
       " 'timeout': inf,\n",
       " 'tolerance': 0}"
      ]
     },
     "execution_count": 22,
     "metadata": {},
     "output_type": "execute_result"
    }
   ],
   "source": [
    "MyDag.nodes['A']"
   ]
  },
  {
   "cell_type": "code",
   "execution_count": 23,
   "metadata": {
    "collapsed": false
   },
   "outputs": [],
   "source": [
    "MyDag.add_edge(\"A\", 'B')\n",
    "MyDag.add_edge(\"A\", 'C')\n",
    "MyDag.add_edge(\"B\", 'C')\n",
    "MyDag.add_edge(\"B\", 'C')\n",
    "MyDag.add_edge(\"D\", 'C')\n",
    "MyDag.add_edge(\"F\", 'E')\n"
   ]
  },
  {
   "cell_type": "code",
   "execution_count": 24,
   "metadata": {
    "collapsed": false
   },
   "outputs": [
    {
     "name": "stdout",
     "output_type": "stream",
     "text": [
      "Maintaining node \"A\".\n",
      "Maintaining node \"B\".\n",
      "Maintaining node \"C\".\n",
      "\tChecking node C.\n",
      "\tNode C needs calibration.\n",
      "\tCalibrating node C.\n",
      "\tCalibration of node C successful.\n",
      "\tCalibrating node B.\n",
      "\tCalibration of node B successful.\n",
      "\tCalibrating node A.\n",
      "\tCalibration of node A successful.\n"
     ]
    },
    {
     "data": {
      "text/plain": [
       "'good'"
      ]
     },
     "execution_count": 24,
     "metadata": {},
     "output_type": "execute_result"
    }
   ],
   "source": [
    "MyDag.set_all_node_states('needs calibration')\n",
    "MyDag.nodes()['C']['state'] = ['unknown']\n",
    "MyDag.maintain_node('A')"
   ]
  },
  {
   "cell_type": "code",
   "execution_count": 25,
   "metadata": {
    "collapsed": false
   },
   "outputs": [],
   "source": [
    "MyDag.nodes()['C']['state'] = 'unknown'"
   ]
  },
  {
   "cell_type": "code",
   "execution_count": 26,
   "metadata": {
    "collapsed": false
   },
   "outputs": [
    {
     "name": "stdout",
     "output_type": "stream",
     "text": [
      "good\n",
      "good\n",
      "unknown\n",
      "needs calibration\n",
      "needs calibration\n",
      "needs calibration\n"
     ]
    }
   ],
   "source": [
    "for n in MyDag.nodes(True):\n",
    "    print(n[1]['state'])"
   ]
  },
  {
   "cell_type": "code",
   "execution_count": 27,
   "metadata": {
    "collapsed": false
   },
   "outputs": [
    {
     "data": {
      "text/plain": [
       "<matplotlib.figure.Figure at 0x1262e4f60>"
      ]
     },
     "metadata": {},
     "output_type": "display_data"
    },
    {
     "data": {
      "image/png": "[encoded data removed]",
      "text/plain": [
       "<matplotlib.figure.Figure at 0x1262cb278>"
      ]
     },
     "metadata": {},
     "output_type": "display_data"
    }
   ],
   "source": [
    "MyDag.update_monitor_mpl()"
   ]
  },
  {
   "cell_type": "code",
   "execution_count": 28,
   "metadata": {
    "collapsed": false
   },
   "outputs": [],
   "source": [
    "win = MyDag.draw_pg()"
   ]
  },
  {
   "cell_type": "code",
   "execution_count": 29,
   "metadata": {
    "collapsed": true
   },
   "outputs": [],
   "source": [
    "nx.readwrite.write_yaml(MyDag, MyDag.name+'.yaml')"
   ]
  },
  {
   "cell_type": "code",
   "execution_count": 30,
   "metadata": {
    "collapsed": true
   },
   "outputs": [],
   "source": [
    "newMyDag = nx.readwrite.read_yaml(MyDag.name+'.yaml')"
   ]
  },
  {
   "cell_type": "code",
   "execution_count": null,
   "metadata": {
    "collapsed": true
   },
   "outputs": [],
   "source": []
  },
  {
   "cell_type": "code",
   "execution_count": 31,
   "metadata": {
    "collapsed": false
   },
   "outputs": [
    {
     "data": {
      "image/png": "[encoded data removed]",
      "text/plain": [
       "<matplotlib.figure.Figure at 0x126513c50>"
      ]
     },
     "metadata": {},
     "output_type": "display_data"
    }
   ],
   "source": [
    "newMyDag.draw_mpl()"
   ]
  },
  {
   "cell_type": "code",
   "execution_count": 32,
   "metadata": {
    "collapsed": false
   },
   "outputs": [],
   "source": [
    "\n",
    "nG = nx.compose(MyDag, newMyDag)"
   ]
  },
  {
   "cell_type": "code",
   "execution_count": 33,
   "metadata": {
    "collapsed": false
   },
   "outputs": [
    {
     "data": {
      "image/png": "[encoded data removed]",
      "text/plain": [
       "<matplotlib.figure.Figure at 0x1266a8048>"
      ]
     },
     "metadata": {},
     "output_type": "display_data"
    }
   ],
   "source": [
    "nG.draw_mpl()"
   ]
  },
  {
   "cell_type": "code",
   "execution_count": 36,
   "metadata": {
    "collapsed": false
   },
   "outputs": [
    {
     "data": {
      "text/plain": [
       "NodeView(('A', 'B', 'C', 'D', 'E', 'F'))"
      ]
     },
     "execution_count": 36,
     "metadata": {},
     "output_type": "execute_result"
    }
   ],
   "source": [
    "nG.nodes()"
   ]
  },
  {
   "cell_type": "code",
   "execution_count": 35,
   "metadata": {
    "collapsed": false
   },
   "outputs": [
    {
     "data": {
      "image/png": "[encoded data removed]",
      "text/plain": [
       "<matplotlib.figure.Figure at 0x120beebe0>"
      ]
     },
     "metadata": {},
     "output_type": "display_data"
    }
   ],
   "source": [
    "\n",
    "\n",
    "MyDag.draw_mpl()\n"
   ]
  },
  {
   "cell_type": "markdown",
   "metadata": {
    "collapsed": true
   },
   "source": [
    "## A mock qubit tuneup "
   ]
  },
  {
   "cell_type": "code",
   "execution_count": 104,
   "metadata": {
    "collapsed": false
   },
   "outputs": [
    {
     "name": "stdout",
     "output_type": "stream",
     "text": [
      "Connected to: <CCLight_Transmon: q0> in 0.01 s\n",
      "Connected to: <CCLight_Transmon: q1> in 0.01 s\n",
      "Connected to: <CCLight_Transmon: q2> in 0.01 s\n"
     ]
    },
    {
     "ename": "KeyError",
     "evalue": "'Another instrument has the name: MW1'",
     "output_type": "error",
     "traceback": [
      "\u001b[0;31m---------------------------------------------------------------------------\u001b[0m",
      "\u001b[0;31mKeyError\u001b[0m                                  Traceback (most recent call last)",
      "\u001b[0;32m<ipython-input-104-73149c0a717f>\u001b[0m in \u001b[0;36m<module>\u001b[0;34m()\u001b[0m\n\u001b[1;32m     42\u001b[0m \u001b[0mq2\u001b[0m \u001b[0;34m=\u001b[0m \u001b[0mct\u001b[0m\u001b[0;34m.\u001b[0m\u001b[0mCCLight_Transmon\u001b[0m\u001b[0;34m(\u001b[0m\u001b[0;34m'q2'\u001b[0m\u001b[0;34m)\u001b[0m\u001b[0;34m\u001b[0m\u001b[0m\n\u001b[1;32m     43\u001b[0m \u001b[0;34m\u001b[0m\u001b[0m\n\u001b[0;32m---> 44\u001b[0;31m \u001b[0mMW1\u001b[0m \u001b[0;34m=\u001b[0m \u001b[0mvmw\u001b[0m\u001b[0;34m.\u001b[0m\u001b[0mVirtualMWsource\u001b[0m\u001b[0;34m(\u001b[0m\u001b[0;34m'MW1'\u001b[0m\u001b[0;34m)\u001b[0m\u001b[0;34m\u001b[0m\u001b[0m\n\u001b[0m\u001b[1;32m     45\u001b[0m \u001b[0mMW2\u001b[0m \u001b[0;34m=\u001b[0m \u001b[0mvmw\u001b[0m\u001b[0;34m.\u001b[0m\u001b[0mVirtualMWsource\u001b[0m\u001b[0;34m(\u001b[0m\u001b[0;34m'MW2'\u001b[0m\u001b[0;34m)\u001b[0m\u001b[0;34m\u001b[0m\u001b[0m\n\u001b[1;32m     46\u001b[0m \u001b[0mMW3\u001b[0m \u001b[0;34m=\u001b[0m \u001b[0mvmw\u001b[0m\u001b[0;34m.\u001b[0m\u001b[0mVirtualMWsource\u001b[0m\u001b[0;34m(\u001b[0m\u001b[0;34m'MW3'\u001b[0m\u001b[0;34m)\u001b[0m\u001b[0;34m\u001b[0m\u001b[0m\n",
      "\u001b[0;32m/Users/Adriaan/GitHubRepos/DiCarloLab_Repositories/PycQED_py3/pycqed/instrument_drivers/virtual_instruments/virtual_MW_source.py\u001b[0m in \u001b[0;36m__init__\u001b[0;34m(self, name, address, **kwargs)\u001b[0m\n\u001b[1;32m     11\u001b[0m \u001b[0;34m\u001b[0m\u001b[0m\n\u001b[1;32m     12\u001b[0m     \u001b[0;32mdef\u001b[0m \u001b[0m__init__\u001b[0m\u001b[0;34m(\u001b[0m\u001b[0mself\u001b[0m\u001b[0;34m,\u001b[0m \u001b[0mname\u001b[0m\u001b[0;34m,\u001b[0m \u001b[0maddress\u001b[0m\u001b[0;34m=\u001b[0m\u001b[0;32mNone\u001b[0m\u001b[0;34m,\u001b[0m \u001b[0;34m**\u001b[0m\u001b[0mkwargs\u001b[0m\u001b[0;34m)\u001b[0m\u001b[0;34m:\u001b[0m\u001b[0;34m\u001b[0m\u001b[0m\n\u001b[0;32m---> 13\u001b[0;31m         \u001b[0msuper\u001b[0m\u001b[0;34m(\u001b[0m\u001b[0;34m)\u001b[0m\u001b[0;34m.\u001b[0m\u001b[0m__init__\u001b[0m\u001b[0;34m(\u001b[0m\u001b[0mname\u001b[0m\u001b[0;34m,\u001b[0m \u001b[0;34m**\u001b[0m\u001b[0mkwargs\u001b[0m\u001b[0;34m)\u001b[0m\u001b[0;34m\u001b[0m\u001b[0m\n\u001b[0m\u001b[1;32m     14\u001b[0m \u001b[0;34m\u001b[0m\u001b[0m\n\u001b[1;32m     15\u001b[0m         self.add_parameter(name='frequency',\n",
      "\u001b[0;32m/Users/Adriaan/GitHubRepos/DiCarloLab_Repositories/Qcodes/qcodes/instrument/base.py\u001b[0m in \u001b[0;36m__init__\u001b[0;34m(self, name, metadata, **kwargs)\u001b[0m\n\u001b[1;32m    371\u001b[0m         \u001b[0mself\u001b[0m\u001b[0;34m.\u001b[0m\u001b[0m_meta_attrs\u001b[0m \u001b[0;34m=\u001b[0m \u001b[0;34m[\u001b[0m\u001b[0;34m'name'\u001b[0m\u001b[0;34m]\u001b[0m\u001b[0;34m\u001b[0m\u001b[0m\n\u001b[1;32m    372\u001b[0m \u001b[0;34m\u001b[0m\u001b[0m\n\u001b[0;32m--> 373\u001b[0;31m         \u001b[0mself\u001b[0m\u001b[0;34m.\u001b[0m\u001b[0mrecord_instance\u001b[0m\u001b[0;34m(\u001b[0m\u001b[0mself\u001b[0m\u001b[0;34m)\u001b[0m\u001b[0;34m\u001b[0m\u001b[0m\n\u001b[0m\u001b[1;32m    374\u001b[0m \u001b[0;34m\u001b[0m\u001b[0m\n\u001b[1;32m    375\u001b[0m     \u001b[0;32mdef\u001b[0m \u001b[0mget_idn\u001b[0m\u001b[0;34m(\u001b[0m\u001b[0mself\u001b[0m\u001b[0;34m)\u001b[0m \u001b[0;34m->\u001b[0m \u001b[0mDict\u001b[0m\u001b[0;34m:\u001b[0m\u001b[0;34m\u001b[0m\u001b[0m\n",
      "\u001b[0;32m/Users/Adriaan/GitHubRepos/DiCarloLab_Repositories/Qcodes/qcodes/instrument/base.py\u001b[0m in \u001b[0;36mrecord_instance\u001b[0;34m(cls, instance)\u001b[0m\n\u001b[1;32m    502\u001b[0m         \u001b[0mexisting_wr\u001b[0m \u001b[0;34m=\u001b[0m \u001b[0mcls\u001b[0m\u001b[0;34m.\u001b[0m\u001b[0m_all_instruments\u001b[0m\u001b[0;34m.\u001b[0m\u001b[0mget\u001b[0m\u001b[0;34m(\u001b[0m\u001b[0mname\u001b[0m\u001b[0;34m)\u001b[0m\u001b[0;34m\u001b[0m\u001b[0m\n\u001b[1;32m    503\u001b[0m         \u001b[0;32mif\u001b[0m \u001b[0mexisting_wr\u001b[0m \u001b[0;32mand\u001b[0m \u001b[0mexisting_wr\u001b[0m\u001b[0;34m(\u001b[0m\u001b[0;34m)\u001b[0m\u001b[0;34m:\u001b[0m\u001b[0;34m\u001b[0m\u001b[0m\n\u001b[0;32m--> 504\u001b[0;31m             \u001b[0;32mraise\u001b[0m \u001b[0mKeyError\u001b[0m\u001b[0;34m(\u001b[0m\u001b[0;34m'Another instrument has the name: {}'\u001b[0m\u001b[0;34m.\u001b[0m\u001b[0mformat\u001b[0m\u001b[0;34m(\u001b[0m\u001b[0mname\u001b[0m\u001b[0;34m)\u001b[0m\u001b[0;34m)\u001b[0m\u001b[0;34m\u001b[0m\u001b[0m\n\u001b[0m\u001b[1;32m    505\u001b[0m \u001b[0;34m\u001b[0m\u001b[0m\n\u001b[1;32m    506\u001b[0m         \u001b[0mcls\u001b[0m\u001b[0;34m.\u001b[0m\u001b[0m_all_instruments\u001b[0m\u001b[0;34m[\u001b[0m\u001b[0mname\u001b[0m\u001b[0;34m]\u001b[0m \u001b[0;34m=\u001b[0m \u001b[0mwr\u001b[0m\u001b[0;34m\u001b[0m\u001b[0m\n",
      "\u001b[0;31mKeyError\u001b[0m: 'Another instrument has the name: MW1'"
     ]
    }
   ],
   "source": [
    "import unittest\n",
    "import numpy as np\n",
    "import os\n",
    "import pycqed as pq\n",
    "import time\n",
    "\n",
    "import pycqed.analysis.analysis_toolbox as a_tools\n",
    "\n",
    "import pycqed.instrument_drivers.virtual_instruments.virtual_AWG8 as v8\n",
    "import pycqed.instrument_drivers.virtual_instruments.virtual_SignalHound as sh\n",
    "import pycqed.instrument_drivers.virtual_instruments.virtual_MW_source as vmw\n",
    "from pycqed.instrument_drivers.meta_instrument.LutMans import mw_lutman as mwl\n",
    "from pycqed.measurement.waveform_control_CC import waveform as wf\n",
    "import pycqed.instrument_drivers.meta_instrument.qubit_objects.CCL_Transmon as ct\n",
    "from pycqed.measurement import measurement_control\n",
    "from qcodes import station\n",
    "\n",
    "from pycqed.instrument_drivers.physical_instruments.ZurichInstruments.dummy_UHFQC import dummy_UHFQC\n",
    "\n",
    "from pycqed.instrument_drivers.physical_instruments.QuTech_Duplexer import Dummy_Duplexer\n",
    "\n",
    "\n",
    "from pycqed.instrument_drivers.meta_instrument.qubit_objects.QuDev_transmon import QuDev_transmon\n",
    "from pycqed.instrument_drivers.meta_instrument.qubit_objects.Tektronix_driven_transmon import Tektronix_driven_transmon\n",
    "from pycqed.instrument_drivers.meta_instrument.qubit_objects.CC_transmon import CBox_v3_driven_transmon, QWG_driven_transmon\n",
    "from pycqed.instrument_drivers.physical_instruments.QuTech_CCL import dummy_CCL\n",
    "from pycqed.instrument_drivers.physical_instruments.QuTech_VSM_Module import Dummy_QuTechVSMModule\n",
    "from pycqed.instrument_drivers.meta_instrument.LutMans.ro_lutman import UHFQC_RO_LutMan\n",
    "\n",
    "Dummy_VSM_not_fixed = False\n",
    "\n",
    "try:\n",
    "    import openql\n",
    "    openql_import_fail = False\n",
    "except:\n",
    "    openql_import_fail = True\n",
    "\n",
    "\n",
    "station = station.Station()\n",
    "q0 = ct.CCLight_Transmon('q0')\n",
    "q1 = ct.CCLight_Transmon('q1')\n",
    "q2 = ct.CCLight_Transmon('q2')\n",
    "\n",
    "MW1 = vmw.VirtualMWsource('MW1')\n",
    "MW2 = vmw.VirtualMWsource('MW2')\n",
    "MW3 = vmw.VirtualMWsource('MW3')\n",
    "SH = sh.virtual_SignalHound_USB_SA124B('SH')\n",
    "UHFQC = dummy_UHFQC('UHFQC')\n",
    "\n",
    "CCL = dummy_CCL('CCL')\n",
    "# VSM = Dummy_Duplexer('VSM')\n",
    "VSM = Dummy_QuTechVSMModule('VSM')\n",
    "\n",
    "MC = measurement_control.MeasurementControl(\n",
    "            'MC', live_plot_enabled=False, verbose=False)\n",
    "MC.station = station\n",
    "station.add_component(MC)\n",
    "\n",
    "# Required to set it to the testing datadir\n",
    "test_datadir = os.path.join(pq.__path__[0], 'tests', 'test_output')\n",
    "MC.datadir(test_datadir)\n",
    "a_tools.datadir = MC.datadir()\n",
    "\n",
    "AWG = v8.VirtualAWG8('DummyAWG8')\n",
    "AWG8_VSM_MW_LutMan = mwl.AWG8_VSM_MW_LutMan('MW_LutMan_VSM')\n",
    "AWG8_VSM_MW_LutMan.AWG(AWG.name)\n",
    "AWG8_VSM_MW_LutMan.channel_GI(1)\n",
    "AWG8_VSM_MW_LutMan.channel_GQ(2)\n",
    "AWG8_VSM_MW_LutMan.channel_DI(3)\n",
    "AWG8_VSM_MW_LutMan.channel_DQ(4)\n",
    "AWG8_VSM_MW_LutMan.mw_modulation(100e6)\n",
    "AWG8_VSM_MW_LutMan.sampling_rate(2.4e9)\n",
    "\n",
    "ro_lutman = UHFQC_RO_LutMan('RO_lutman', num_res=5)\n",
    "ro_lutman.AWG(UHFQC.name)\n",
    "\n",
    "# Assign instruments\n",
    "for qi in [q0, q1, q2]:\n",
    "    qi.instr_LutMan_MW(AWG8_VSM_MW_LutMan.name)\n",
    "    qi.instr_LO_ro(MW1.name)\n",
    "    qi.instr_LO_mw(MW2.name)\n",
    "    qi.instr_spec_source(MW3.name)\n",
    "\n",
    "    qi.instr_acquisition(UHFQC.name)\n",
    "    qi.instr_VSM(VSM.name)\n",
    "    qi.instr_CC(CCL.name)\n",
    "    qi.instr_LutMan_RO(ro_lutman.name)\n",
    "    qi.instr_MC(MC.name)\n",
    "\n",
    "    qi.instr_SH(SH.name)\n",
    "\n",
    "    config_fn = os.path.join(pq.__path__[0], 'tests', 'test_cfg_CCL.json')\n",
    "    qi.cfg_openql_platform_fn(config_fn)\n",
    "\n",
    "            # Setting some \"random\" initial parameters\n",
    "    qi.ro_freq(5.43e9)\n",
    "    qi.ro_freq_mod(200e6)\n",
    "\n",
    "    qi.freq_qubit(4.56e9)\n",
    "    qi.freq_max(4.62e9)\n",
    "\n",
    "    qi.mw_freq_mod(-100e6)\n",
    "    qi.mw_awg_ch(1)\n",
    "    qi.cfg_qubit_nr(0)\n",
    "\n",
    "    qi.mw_vsm_delay(15)\n",
    "\n",
    "    qi.mw_mixer_offs_GI(.1)\n",
    "    qi.mw_mixer_offs_GQ(.2)\n",
    "    qi.mw_mixer_offs_DI(.3)\n",
    "    qi.mw_mixer_offs_DQ(.4)"
   ]
  },
  {
   "cell_type": "code",
   "execution_count": 41,
   "metadata": {
    "collapsed": false
   },
   "outputs": [
    {
     "data": {
      "text/plain": [
       "'/Users/Adriaan/GitHubRepos/DiCarloLab_Repositories/PycQED_py3/pycqed/tests/test_output'"
      ]
     },
     "execution_count": 41,
     "metadata": {},
     "output_type": "execute_result"
    }
   ],
   "source": [
    "MC.datadir()"
   ]
  },
  {
   "cell_type": "code",
   "execution_count": 40,
   "metadata": {
    "collapsed": false
   },
   "outputs": [
    {
     "data": {
      "text/plain": [
       "0.98967966964990006"
      ]
     },
     "execution_count": 40,
     "metadata": {},
     "output_type": "execute_result"
    }
   ],
   "source": [
    "CCL_qubit.measure_allxy()"
   ]
  },
  {
   "cell_type": "code",
   "execution_count": 43,
   "metadata": {
    "collapsed": true
   },
   "outputs": [],
   "source": [
    "self=CCL_qubit"
   ]
  },
  {
   "cell_type": "code",
   "execution_count": null,
   "metadata": {
    "collapsed": true
   },
   "outputs": [],
   "source": []
  },
  {
   "cell_type": "code",
   "execution_count": 51,
   "metadata": {
    "collapsed": false
   },
   "outputs": [
    {
     "name": "stderr",
     "output_type": "stream",
     "text": [
      "WARNING:root:CCL transmon can only perform pulsed spectrocsopy\n",
      "WARNING:root:qb_name is None. Old parameter values will not be retrieved.\n"
     ]
    },
    {
     "name": "stdout",
     "output_type": "stream",
     "text": [
      "Peak Finder: Optimal num_sigma_threshold after optimization is  14\n"
     ]
    },
    {
     "name": "stderr",
     "output_type": "stream",
     "text": [
      "WARNING:root:qb_name is None. Old parameter values will not be retrieved.\n"
     ]
    },
    {
     "data": {
      "text/plain": [
       "4584000000.0"
      ]
     },
     "execution_count": 51,
     "metadata": {},
     "output_type": "execute_result"
    }
   ],
   "source": [
    "self.find_frequency()"
   ]
  },
  {
   "cell_type": "code",
   "execution_count": 50,
   "metadata": {
    "collapsed": false
   },
   "outputs": [
    {
     "ename": "ValueError",
     "evalue": "Specify \"freq_res\" to generate a freq span",
     "output_type": "error",
     "traceback": [
      "\u001b[0;31m---------------------------------------------------------------------------\u001b[0m",
      "\u001b[0;31mValueError\u001b[0m                                Traceback (most recent call last)",
      "\u001b[0;32m<ipython-input-50-cbe26548010b>\u001b[0m in \u001b[0;36m<module>\u001b[0;34m()\u001b[0m\n\u001b[0;32m----> 1\u001b[0;31m \u001b[0mself\u001b[0m\u001b[0;34m.\u001b[0m\u001b[0mfind_resonator_frequency\u001b[0m\u001b[0;34m(\u001b[0m\u001b[0;34m)\u001b[0m\u001b[0;34m\u001b[0m\u001b[0m\n\u001b[0m",
      "\u001b[0;32m/Users/Adriaan/GitHubRepos/DiCarloLab_Repositories/PycQED_py3/pycqed/instrument_drivers/meta_instrument/qubit_objects/qubit_object.py\u001b[0m in \u001b[0;36mfind_resonator_frequency\u001b[0;34m(self, use_min, update, freqs, MC, close_fig)\u001b[0m\n\u001b[1;32m    273\u001b[0m             \u001b[0mf_center\u001b[0m \u001b[0;34m=\u001b[0m \u001b[0mfreq_res_par\u001b[0m\u001b[0;34m(\u001b[0m\u001b[0;34m)\u001b[0m\u001b[0;34m\u001b[0m\u001b[0m\n\u001b[1;32m    274\u001b[0m             \u001b[0;32mif\u001b[0m \u001b[0mf_center\u001b[0m \u001b[0;32mis\u001b[0m \u001b[0;32mNone\u001b[0m\u001b[0;34m:\u001b[0m\u001b[0;34m\u001b[0m\u001b[0m\n\u001b[0;32m--> 275\u001b[0;31m                 \u001b[0;32mraise\u001b[0m \u001b[0mValueError\u001b[0m\u001b[0;34m(\u001b[0m\u001b[0;34m'Specify \"freq_res\" to generate a freq span'\u001b[0m\u001b[0;34m)\u001b[0m\u001b[0;34m\u001b[0m\u001b[0m\n\u001b[0m\u001b[1;32m    276\u001b[0m             \u001b[0mf_span\u001b[0m \u001b[0;34m=\u001b[0m \u001b[0;36m10e6\u001b[0m\u001b[0;34m\u001b[0m\u001b[0m\n\u001b[1;32m    277\u001b[0m             \u001b[0mf_step\u001b[0m \u001b[0;34m=\u001b[0m \u001b[0;36m100e3\u001b[0m\u001b[0;34m\u001b[0m\u001b[0m\n",
      "\u001b[0;31mValueError\u001b[0m: Specify \"freq_res\" to generate a freq span"
     ]
    }
   ],
   "source": [
    "self.find_resonator_frequency()"
   ]
  },
  {
   "cell_type": "code",
   "execution_count": null,
   "metadata": {
    "collapsed": true
   },
   "outputs": [],
   "source": []
  },
  {
   "cell_type": "code",
   "execution_count": null,
   "metadata": {
    "collapsed": true
   },
   "outputs": [],
   "source": [
    "self.calibrate_"
   ]
  },
  {
   "cell_type": "code",
   "execution_count": 96,
   "metadata": {
    "collapsed": false
   },
   "outputs": [
    {
     "data": {
      "text/plain": [
       "<module 'autodepgraph.graph_v2' from '/Users/Adriaan/GitHubRepos/DiCarloLab_Repositories/AutoDepGraph/autodepgraph/graph_v2.py'>"
      ]
     },
     "execution_count": 96,
     "metadata": {},
     "output_type": "execute_result"
    }
   ],
   "source": [
    "reload(g)"
   ]
  },
  {
   "cell_type": "code",
   "execution_count": 97,
   "metadata": {
    "collapsed": false
   },
   "outputs": [],
   "source": [
    "def create_dep_graph(self): \n",
    "    DAG  = g.AutoDepGraph_DAG(name = self.name+' DAG')\n",
    "    \n",
    "    DAG.add_node(self.name+' resonator frequency', calibrate_function=self.name +'.find_resonator')\n",
    "    DAG.add_node(self.name+' frequency coarse', calibrate_function=self.name +'.find_frequency')\n",
    "    DAG.add_edge( self.name+' frequency coarse', self.name+' resonator frequency')\n",
    "    \n",
    "    DAG.add_node(self.name+' mixer offsets drive', calibrate_function=self.name +'.calibrate_mixer_offsets_drive')\n",
    "    DAG.add_node(self.name+' mixer skewness drive', calibrate_function=self.name +'.calibrate_mixer_skewness_drive')\n",
    "    DAG.add_node(self.name+' mixer offsets readout', calibrate_function=self.name +'.calibrate_mixer_offsets_RO')\n",
    "    \n",
    "    DAG.add_node(self.name  + ' pulse amplitude coarse', calibrate_function=self.name +'.measure_rabi')\n",
    "    DAG.add_edge( self.name + ' pulse amplitude coarse', self.name+' frequency coarse')\n",
    "    DAG.add_edge( self.name + ' pulse amplitude coarse', self.name+' mixer offsets drive')\n",
    "    DAG.add_edge( self.name + ' pulse amplitude coarse', self.name+' mixer skewness drive')\n",
    "    DAG.add_edge( self.name + ' pulse amplitude coarse', self.name+' mixer offsets readout')\n",
    "    \n",
    "    \n",
    "    \n",
    "    DAG.add_node(self.name+' T1', calibrate_function=self.name +'.measure_T1')\n",
    "    DAG.add_node(self.name+' T2-echo', calibrate_function=self.name +'.measure_echo')\n",
    "    DAG.add_node(self.name+' T2-star', calibrate_function=self.name +'.measure_ramsey')\n",
    "    DAG.add_edge( self.name + ' T1', self.name+' pulse amplitude coarse')\n",
    "    DAG.add_edge( self.name + ' T2-echo', self.name+' pulse amplitude coarse')\n",
    "    DAG.add_edge( self.name + ' T2-star', self.name+' pulse amplitude coarse')\n",
    "    \n",
    "    DAG.add_node(self.name+' frequency fine', calibrate_function=self.name +'.calibrate_frequency_ramsey')     \n",
    "    DAG.add_edge( self.name + ' frequency fine', self.name+' pulse amplitude coarse')\n",
    "    \n",
    "    DAG.add_node(self.name  + ' pulse amplitude med', calibrate_function=self.name +'.measure_rabi')\n",
    "    DAG.add_edge( self.name + ' pulse amplitude med', self.name+' frequency fine')\n",
    "    \n",
    "    DAG.add_node(self.name +' optimal weights', calibrate_function=self.name+'.calibrate_optimal_weights')\n",
    "    DAG.add_edge( self.name + ' optimal weights', self.name+' pulse amplitude med')\n",
    "    \n",
    "    DAG.add_node(self.name+' gates restless', calibrate_function=self.name +'.calibrate_mw_gates_restless')\n",
    "    DAG.add_edge( self.name + ' gates restless', self.name+' optimal weights')\n",
    "\n",
    "    # easy to implement a check\n",
    "    DAG.add_node(self.name+' frequency fine', calibrate_function=self.name +'.calibrate_frequency_ramsey')     \n",
    "    return DAG\n",
    "\n",
    "\n",
    "DAG =create_dep_graph(CCL_qubit)\n",
    "DAG.draw_svg()"
   ]
  },
  {
   "cell_type": "code",
   "execution_count": 98,
   "metadata": {
    "collapsed": true
   },
   "outputs": [],
   "source": [
    "DAG.cfg_plot_mode = 'pyqtgraph'"
   ]
  },
  {
   "cell_type": "code",
   "execution_count": null,
   "metadata": {
    "collapsed": false
   },
   "outputs": [],
   "source": []
  },
  {
   "cell_type": "code",
   "execution_count": 99,
   "metadata": {
    "collapsed": false,
    "scrolled": false
   },
   "outputs": [
    {
     "name": "stdout",
     "output_type": "stream",
     "text": [
      "Maintaining node \"CCL_qubit gates restless\".\n",
      "\tChecking node CCL_qubit gates restless.\n",
      "too many values to unpack (expected 2)\n",
      "\tNode CCL_qubit gates restless needs calibration.\n",
      "\tCalibrating node CCL_qubit gates restless.\n",
      "hello!\n",
      "(3_w,7)-aCMA-ES (mu_w=2.3,w_1=58%) in dimension 3 (seed=126716, Wed Mar 14 23:10:04 2018)\n",
      "Iterat #Fevals   function value  axis ratio  sigma  min&max std  t[m:s]\n",
      "    1      7 -1.544935821472761e-04 1.0e+00 1.00e+00  2e+03  9e+05 0:00.0\n",
      "    2     14 -2.068881175514131e-04 1.4e+00 8.64e-01  1e+03  8e+05 0:00.0\n",
      "    3     21 -1.721315388874445e-04 1.6e+00 7.12e-01  1e+03  6e+05 0:00.1\n",
      "  100    700 -1.588175759817871e-04 1.0e+01 2.19e-01  9e+01  4e+04 0:01.8\n",
      "  200   1400 -1.625322225093114e-04 3.6e+02 4.81e-01  2e+02  1e+05 0:03.8\n",
      "  300   2100 -1.393782909344945e-04 8.0e+02 7.03e-02  4e+00  2e+03 0:05.7\n",
      "  400   2800 -1.729500735615970e-04 5.2e+02 4.95e-03  7e-03  3e+00 0:07.2\n",
      "  500   3500 -1.560364614281228e-04 2.7e+03 1.40e-03  3e-04  1e-01 0:08.7\n",
      "  510   3570 -1.578836799297356e-04 5.4e+03 2.14e-03  6e-04  3e-01 0:08.9\n",
      "termination on tolstagnation=174 (Wed Mar 14 23:10:15 2018)\n",
      "final/bestever f-value = -1.091794e-04 -2.186451e-04\n",
      "incumbent solution: [25387.601032776376, 44171.429297433904, 4684370929.5285997]\n",
      "std deviation: [0.0005977034850666019, 0.00087892314542223262, 0.26697819902564968]\n",
      "Optimization converged to:\n",
      "    ch0 flips: 0.0001 frac\n",
      "    mod1_ch1_gaussian_att_raw: 25387.6010 \n",
      "    mod1_ch1_derivative_att_raw: 44171.4293 \n",
      "    Frequency: 4684370929.5286 Hz\n",
      "Updating parameters in qubit object\n",
      "\tCalibration of node CCL_qubit gates restless failed.\n"
     ]
    },
    {
     "data": {
      "text/plain": [
       "'bad'"
      ]
     },
     "execution_count": 99,
     "metadata": {},
     "output_type": "execute_result"
    }
   ],
   "source": [
    "DAG.maintain_node('CCL_qubit gates restless')"
   ]
  },
  {
   "cell_type": "code",
   "execution_count": 103,
   "metadata": {
    "collapsed": true
   },
   "outputs": [],
   "source": []
  },
  {
   "cell_type": "code",
   "execution_count": 101,
   "metadata": {
    "collapsed": false,
    "scrolled": false
   },
   "outputs": [
    {
     "name": "stdout",
     "output_type": "stream",
     "text": [
      "Maintaining node \"CCL_qubit frequency fine\".\n",
      "\tChecking node CCL_qubit frequency fine.\n",
      "too many values to unpack (expected 2)\n",
      "\tNode CCL_qubit frequency fine needs calibration.\n",
      "\tCalibrating node CCL_qubit frequency fine.\n",
      "hello!\n"
     ]
    },
    {
     "name": "stderr",
     "output_type": "stream",
     "text": [
      "WARNING:root:Fit did not converge, varying phase\n",
      "WARNING:root:Fit did not converge, varying phase\n"
     ]
    },
    {
     "name": "stdout",
     "output_type": "stream",
     "text": [
      "Measured detuning:1.52e+07\n",
      "Setting freq to: 4.569210462e+09, \n",
      "\n"
     ]
    },
    {
     "name": "stderr",
     "output_type": "stream",
     "text": [
      "WARNING:root:Fit did not converge, varying phase\n",
      "WARNING:root:Fit did not converge, varying phase\n"
     ]
    },
    {
     "name": "stdout",
     "output_type": "stream",
     "text": [
      "Measured detuning:1.34e+07\n",
      "Setting freq to: 4.555777153e+09, \n",
      "\n"
     ]
    },
    {
     "name": "stderr",
     "output_type": "stream",
     "text": [
      "WARNING:root:Fit did not converge, varying phase\n",
      "WARNING:root:Fit did not converge, varying phase\n"
     ]
    },
    {
     "name": "stdout",
     "output_type": "stream",
     "text": [
      "Measured detuning:7.78e+05\n",
      "Setting freq to: 4.554999493e+09, \n",
      "\n"
     ]
    },
    {
     "name": "stderr",
     "output_type": "stream",
     "text": [
      "WARNING:root:Fit did not converge, varying phase\n",
      "WARNING:root:Fit did not converge, varying phase\n"
     ]
    },
    {
     "name": "stdout",
     "output_type": "stream",
     "text": [
      "Measured detuning:1.78e+06\n",
      "Setting freq to: 4.553221037e+09, \n",
      "\n"
     ]
    },
    {
     "name": "stderr",
     "output_type": "stream",
     "text": [
      "WARNING:root:Fit did not converge, varying phase\n",
      "WARNING:root:Fit did not converge, varying phase\n"
     ]
    },
    {
     "name": "stdout",
     "output_type": "stream",
     "text": [
      "Measured detuning:7.20e+04\n",
      "Setting freq to: 4.553149036e+09, \n",
      "\n"
     ]
    },
    {
     "name": "stderr",
     "output_type": "stream",
     "text": [
      "WARNING:root:Fit did not converge, varying phase\n"
     ]
    },
    {
     "ename": "ValueError",
     "evalue": "('0.0020399998500887288 is invalid: must be between 0 and 0.0002 inclusive; Parameter: CCL_qubit.T2_star', 'setting CCL_qubit_T2_star to 0.002039999850088729')",
     "output_type": "error",
     "traceback": [
      "\u001b[0;31m---------------------------------------------------------------------------\u001b[0m",
      "\u001b[0;31mValueError\u001b[0m                                Traceback (most recent call last)",
      "\u001b[0;32m<ipython-input-101-6e5181ab4dc3>\u001b[0m in \u001b[0;36m<module>\u001b[0;34m()\u001b[0m\n\u001b[0;32m----> 1\u001b[0;31m \u001b[0mDAG\u001b[0m\u001b[0;34m.\u001b[0m\u001b[0mmaintain_node\u001b[0m\u001b[0;34m(\u001b[0m\u001b[0;34m'CCL_qubit frequency fine'\u001b[0m\u001b[0;34m)\u001b[0m\u001b[0;34m\u001b[0m\u001b[0m\n\u001b[0m",
      "\u001b[0;32m/Users/Adriaan/GitHubRepos/DiCarloLab_Repositories/AutoDepGraph/autodepgraph/graph_v2.py\u001b[0m in \u001b[0;36mmaintain_node\u001b[0;34m(self, node, verbose)\u001b[0m\n\u001b[1;32m    129\u001b[0m         \u001b[0;31m# 3. Take action based on the stae of the node\u001b[0m\u001b[0;34m\u001b[0m\u001b[0;34m\u001b[0m\u001b[0m\n\u001b[1;32m    130\u001b[0m         \u001b[0;32mif\u001b[0m \u001b[0mstate\u001b[0m \u001b[0;34m==\u001b[0m \u001b[0;34m'needs calibration'\u001b[0m\u001b[0;34m:\u001b[0m\u001b[0;34m\u001b[0m\u001b[0m\n\u001b[0;32m--> 131\u001b[0;31m             \u001b[0mcal_succes\u001b[0m \u001b[0;34m=\u001b[0m \u001b[0mself\u001b[0m\u001b[0;34m.\u001b[0m\u001b[0mcalibrate_node\u001b[0m\u001b[0;34m(\u001b[0m\u001b[0mnode\u001b[0m\u001b[0;34m,\u001b[0m \u001b[0mverbose\u001b[0m\u001b[0;34m=\u001b[0m\u001b[0mverbose\u001b[0m\u001b[0;34m)\u001b[0m\u001b[0;34m\u001b[0m\u001b[0m\n\u001b[0m\u001b[1;32m    132\u001b[0m             \u001b[0;31m# the calibration can still fail if dependencies that were good\u001b[0m\u001b[0;34m\u001b[0m\u001b[0;34m\u001b[0m\u001b[0m\n\u001b[1;32m    133\u001b[0m             \u001b[0;31m# or unknown were bad. In that case all dependencies will\u001b[0m\u001b[0;34m\u001b[0m\u001b[0;34m\u001b[0m\u001b[0m\n",
      "\u001b[0;32m/Users/Adriaan/GitHubRepos/DiCarloLab_Repositories/AutoDepGraph/autodepgraph/graph_v2.py\u001b[0m in \u001b[0;36mcalibrate_node\u001b[0;34m(self, node, verbose)\u001b[0m\n\u001b[1;32m    188\u001b[0m         \u001b[0mself\u001b[0m\u001b[0;34m.\u001b[0m\u001b[0mupdate_monitor\u001b[0m\u001b[0;34m(\u001b[0m\u001b[0;34m)\u001b[0m\u001b[0;34m\u001b[0m\u001b[0m\n\u001b[1;32m    189\u001b[0m         \u001b[0mfunc\u001b[0m \u001b[0;34m=\u001b[0m \u001b[0m_get_function\u001b[0m\u001b[0;34m(\u001b[0m\u001b[0mself\u001b[0m\u001b[0;34m.\u001b[0m\u001b[0mnodes\u001b[0m\u001b[0;34m[\u001b[0m\u001b[0mnode\u001b[0m\u001b[0;34m]\u001b[0m\u001b[0;34m[\u001b[0m\u001b[0;34m'calibrate_function'\u001b[0m\u001b[0;34m]\u001b[0m\u001b[0;34m)\u001b[0m\u001b[0;34m\u001b[0m\u001b[0m\n\u001b[0;32m--> 190\u001b[0;31m         \u001b[0mresult\u001b[0m \u001b[0;34m=\u001b[0m \u001b[0mfunc\u001b[0m\u001b[0;34m(\u001b[0m\u001b[0;34m)\u001b[0m\u001b[0;34m\u001b[0m\u001b[0m\n\u001b[0m\u001b[1;32m    191\u001b[0m         \u001b[0;32mif\u001b[0m \u001b[0mresult\u001b[0m\u001b[0;34m:\u001b[0m\u001b[0;34m\u001b[0m\u001b[0m\n\u001b[1;32m    192\u001b[0m             \u001b[0mself\u001b[0m\u001b[0;34m.\u001b[0m\u001b[0mset_node_state\u001b[0m\u001b[0;34m(\u001b[0m\u001b[0mnode\u001b[0m\u001b[0;34m,\u001b[0m \u001b[0;34m'good'\u001b[0m\u001b[0;34m)\u001b[0m\u001b[0;34m\u001b[0m\u001b[0m\n",
      "\u001b[0;32m/Users/Adriaan/GitHubRepos/DiCarloLab_Repositories/PycQED_py3/pycqed/instrument_drivers/meta_instrument/qubit_objects/qubit_object.py\u001b[0m in \u001b[0;36mcalibrate_frequency_ramsey\u001b[0;34m(self, steps, stepsize, verbose, update, close_fig)\u001b[0m\n\u001b[1;32m    435\u001b[0m                                 \u001b[0mfreq_qubit\u001b[0m\u001b[0;34m=\u001b[0m\u001b[0mcur_freq\u001b[0m\u001b[0;34m,\u001b[0m\u001b[0;34m\u001b[0m\u001b[0m\n\u001b[1;32m    436\u001b[0m                                 \u001b[0mlabel\u001b[0m\u001b[0;34m=\u001b[0m\u001b[0;34m'_{}pulse_sep'\u001b[0m\u001b[0;34m.\u001b[0m\u001b[0mformat\u001b[0m\u001b[0;34m(\u001b[0m\u001b[0mn\u001b[0m\u001b[0;34m)\u001b[0m\u001b[0;34m,\u001b[0m\u001b[0;34m\u001b[0m\u001b[0m\n\u001b[0;32m--> 437\u001b[0;31m                                 analyze=False)\n\u001b[0m\u001b[1;32m    438\u001b[0m             a = ma.Ramsey_Analysis(auto=True, close_fig=close_fig,\n\u001b[1;32m    439\u001b[0m                                    \u001b[0mfreq_qubit\u001b[0m\u001b[0;34m=\u001b[0m\u001b[0mcur_freq\u001b[0m\u001b[0;34m,\u001b[0m\u001b[0;34m\u001b[0m\u001b[0m\n",
      "\u001b[0;32m/Users/Adriaan/GitHubRepos/DiCarloLab_Repositories/PycQED_py3/pycqed/instrument_drivers/meta_instrument/qubit_objects/CCL_Transmon.py\u001b[0m in \u001b[0;36mmeasure_ramsey\u001b[0;34m(self, times, MC, artificial_detuning, freq_qubit, label, analyze, close_fig, update)\u001b[0m\n\u001b[1;32m   1905\u001b[0m                                artificial_detuning=artificial_detuning)\n\u001b[1;32m   1906\u001b[0m         \u001b[0;32mif\u001b[0m \u001b[0mupdate\u001b[0m\u001b[0;34m:\u001b[0m\u001b[0;34m\u001b[0m\u001b[0m\n\u001b[0;32m-> 1907\u001b[0;31m             \u001b[0mself\u001b[0m\u001b[0;34m.\u001b[0m\u001b[0mT2_star\u001b[0m\u001b[0;34m(\u001b[0m\u001b[0ma\u001b[0m\u001b[0;34m.\u001b[0m\u001b[0mT2_star\u001b[0m\u001b[0;34m[\u001b[0m\u001b[0;34m'T2_star'\u001b[0m\u001b[0;34m]\u001b[0m\u001b[0;34m)\u001b[0m \u001b[0;31m# dict containing val and stderr\u001b[0m\u001b[0;34m\u001b[0m\u001b[0m\n\u001b[0m\u001b[1;32m   1908\u001b[0m         \u001b[0;32mreturn\u001b[0m \u001b[0ma\u001b[0m\u001b[0;34m.\u001b[0m\u001b[0mT2_star\u001b[0m\u001b[0;34m\u001b[0m\u001b[0m\n\u001b[1;32m   1909\u001b[0m \u001b[0;34m\u001b[0m\u001b[0m\n",
      "\u001b[0;32m/Users/Adriaan/GitHubRepos/DiCarloLab_Repositories/Qcodes/qcodes/instrument/parameter.py\u001b[0m in \u001b[0;36m__call__\u001b[0;34m(self, *args, **kwargs)\u001b[0m\n\u001b[1;32m    248\u001b[0m         \u001b[0;32melse\u001b[0m\u001b[0;34m:\u001b[0m\u001b[0;34m\u001b[0m\u001b[0m\n\u001b[1;32m    249\u001b[0m             \u001b[0;32mif\u001b[0m \u001b[0mhasattr\u001b[0m\u001b[0;34m(\u001b[0m\u001b[0mself\u001b[0m\u001b[0;34m,\u001b[0m \u001b[0;34m'set'\u001b[0m\u001b[0;34m)\u001b[0m\u001b[0;34m:\u001b[0m\u001b[0;34m\u001b[0m\u001b[0m\n\u001b[0;32m--> 250\u001b[0;31m                 \u001b[0mself\u001b[0m\u001b[0;34m.\u001b[0m\u001b[0mset\u001b[0m\u001b[0;34m(\u001b[0m\u001b[0;34m*\u001b[0m\u001b[0margs\u001b[0m\u001b[0;34m,\u001b[0m \u001b[0;34m**\u001b[0m\u001b[0mkwargs\u001b[0m\u001b[0;34m)\u001b[0m\u001b[0;34m\u001b[0m\u001b[0m\n\u001b[0m\u001b[1;32m    251\u001b[0m             \u001b[0;32melse\u001b[0m\u001b[0;34m:\u001b[0m\u001b[0;34m\u001b[0m\u001b[0m\n\u001b[1;32m    252\u001b[0m                 raise NotImplementedError('no set cmd found in' +\n",
      "\u001b[0;32m/Users/Adriaan/GitHubRepos/DiCarloLab_Repositories/Qcodes/qcodes/instrument/parameter.py\u001b[0m in \u001b[0;36mset_wrapper\u001b[0;34m(value, **kwargs)\u001b[0m\n\u001b[1;32m    415\u001b[0m             \u001b[0;32mexcept\u001b[0m \u001b[0mException\u001b[0m \u001b[0;32mas\u001b[0m \u001b[0me\u001b[0m\u001b[0;34m:\u001b[0m\u001b[0;34m\u001b[0m\u001b[0m\n\u001b[1;32m    416\u001b[0m                 \u001b[0me\u001b[0m\u001b[0;34m.\u001b[0m\u001b[0margs\u001b[0m \u001b[0;34m=\u001b[0m \u001b[0me\u001b[0m\u001b[0;34m.\u001b[0m\u001b[0margs\u001b[0m \u001b[0;34m+\u001b[0m \u001b[0;34m(\u001b[0m\u001b[0;34m'setting {} to {}'\u001b[0m\u001b[0;34m.\u001b[0m\u001b[0mformat\u001b[0m\u001b[0;34m(\u001b[0m\u001b[0mself\u001b[0m\u001b[0;34m,\u001b[0m \u001b[0mvalue\u001b[0m\u001b[0;34m)\u001b[0m\u001b[0;34m,\u001b[0m\u001b[0;34m)\u001b[0m\u001b[0;34m\u001b[0m\u001b[0m\n\u001b[0;32m--> 417\u001b[0;31m                 \u001b[0;32mraise\u001b[0m \u001b[0me\u001b[0m\u001b[0;34m\u001b[0m\u001b[0m\n\u001b[0m\u001b[1;32m    418\u001b[0m \u001b[0;34m\u001b[0m\u001b[0m\n\u001b[1;32m    419\u001b[0m         \u001b[0;32mreturn\u001b[0m \u001b[0mset_wrapper\u001b[0m\u001b[0;34m\u001b[0m\u001b[0m\n",
      "\u001b[0;32m/Users/Adriaan/GitHubRepos/DiCarloLab_Repositories/Qcodes/qcodes/instrument/parameter.py\u001b[0m in \u001b[0;36mset_wrapper\u001b[0;34m(value, **kwargs)\u001b[0m\n\u001b[1;32m    357\u001b[0m         \u001b[0;32mdef\u001b[0m \u001b[0mset_wrapper\u001b[0m\u001b[0;34m(\u001b[0m\u001b[0mvalue\u001b[0m\u001b[0;34m,\u001b[0m \u001b[0;34m**\u001b[0m\u001b[0mkwargs\u001b[0m\u001b[0;34m)\u001b[0m\u001b[0;34m:\u001b[0m\u001b[0;34m\u001b[0m\u001b[0m\n\u001b[1;32m    358\u001b[0m             \u001b[0;32mtry\u001b[0m\u001b[0;34m:\u001b[0m\u001b[0;34m\u001b[0m\u001b[0m\n\u001b[0;32m--> 359\u001b[0;31m                 \u001b[0mself\u001b[0m\u001b[0;34m.\u001b[0m\u001b[0mvalidate\u001b[0m\u001b[0;34m(\u001b[0m\u001b[0mvalue\u001b[0m\u001b[0;34m)\u001b[0m\u001b[0;34m\u001b[0m\u001b[0m\n\u001b[0m\u001b[1;32m    360\u001b[0m \u001b[0;34m\u001b[0m\u001b[0m\n\u001b[1;32m    361\u001b[0m                 \u001b[0;31m# In some cases intermediate sweep values must be used.\u001b[0m\u001b[0;34m\u001b[0m\u001b[0;34m\u001b[0m\u001b[0m\n",
      "\u001b[0;32m/Users/Adriaan/GitHubRepos/DiCarloLab_Repositories/Qcodes/qcodes/instrument/parameter.py\u001b[0m in \u001b[0;36mvalidate\u001b[0;34m(self, value)\u001b[0m\n\u001b[1;32m    470\u001b[0m             \u001b[0mcontext\u001b[0m \u001b[0;34m=\u001b[0m \u001b[0mself\u001b[0m\u001b[0;34m.\u001b[0m\u001b[0mname\u001b[0m\u001b[0;34m\u001b[0m\u001b[0m\n\u001b[1;32m    471\u001b[0m         \u001b[0;32mif\u001b[0m \u001b[0mself\u001b[0m\u001b[0;34m.\u001b[0m\u001b[0mvals\u001b[0m \u001b[0;32mis\u001b[0m \u001b[0;32mnot\u001b[0m \u001b[0;32mNone\u001b[0m\u001b[0;34m:\u001b[0m\u001b[0;34m\u001b[0m\u001b[0m\n\u001b[0;32m--> 472\u001b[0;31m             \u001b[0mself\u001b[0m\u001b[0;34m.\u001b[0m\u001b[0mvals\u001b[0m\u001b[0;34m.\u001b[0m\u001b[0mvalidate\u001b[0m\u001b[0;34m(\u001b[0m\u001b[0mvalue\u001b[0m\u001b[0;34m,\u001b[0m \u001b[0;34m'Parameter: '\u001b[0m \u001b[0;34m+\u001b[0m \u001b[0mcontext\u001b[0m\u001b[0;34m)\u001b[0m\u001b[0;34m\u001b[0m\u001b[0m\n\u001b[0m\u001b[1;32m    473\u001b[0m \u001b[0;34m\u001b[0m\u001b[0m\n\u001b[1;32m    474\u001b[0m     \u001b[0;34m@\u001b[0m\u001b[0mproperty\u001b[0m\u001b[0;34m\u001b[0m\u001b[0m\n",
      "\u001b[0;32m/Users/Adriaan/GitHubRepos/DiCarloLab_Repositories/Qcodes/qcodes/utils/validators.py\u001b[0m in \u001b[0;36mvalidate\u001b[0;34m(self, value, context)\u001b[0m\n\u001b[1;32m    209\u001b[0m                 \u001b[0;34m'{} is invalid: must be between '\u001b[0m\u001b[0;34m\u001b[0m\u001b[0m\n\u001b[1;32m    210\u001b[0m                 '{} and {} inclusive; {}'.format(\n\u001b[0;32m--> 211\u001b[0;31m                     repr(value), self._min_value, self._max_value, context))\n\u001b[0m\u001b[1;32m    212\u001b[0m \u001b[0;34m\u001b[0m\u001b[0m\n\u001b[1;32m    213\u001b[0m     \u001b[0mis_numeric\u001b[0m \u001b[0;34m=\u001b[0m \u001b[0;32mTrue\u001b[0m\u001b[0;34m\u001b[0m\u001b[0m\n",
      "\u001b[0;31mValueError\u001b[0m: ('0.0020399998500887288 is invalid: must be between 0 and 0.0002 inclusive; Parameter: CCL_qubit.T2_star', 'setting CCL_qubit_T2_star to 0.002039999850088729')"
     ]
    }
   ],
   "source": [
    "DAG.maintain_node('CCL_qubit frequency fine')"
   ]
  }
 ],
 "metadata": {
  "kernelspec": {
   "display_name": "Python 3",
   "language": "python",
   "name": "python3"
  },
  "language_info": {
   "codemirror_mode": {
    "name": "ipython",
    "version": 3
   },
   "file_extension": ".py",
   "mimetype": "text/x-python",
   "name": "python",
   "nbconvert_exporter": "python",
   "pygments_lexer": "ipython3",
   "version": "3.6.0"
  }
 },
 "nbformat": 4,
 "nbformat_minor": 2
}
