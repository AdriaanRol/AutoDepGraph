{
 "cells": [
  {
   "cell_type": "code",
   "execution_count": 1,
   "metadata": {
    "collapsed": false,
    "scrolled": true
   },
   "outputs": [],
   "source": [
    "\n",
    "from autodepgraph.graph import Graph\n",
    "from autodepgraph import visualization as vis\n",
    "G = Graph('G')\n",
    "\n",
    "\n",
    "G.add_node('A')\n",
    "G.add_node('B')\n",
    "G.B.dependencies(['A'])\n",
    "G.add_node('C')\n",
    "G.C.dependencies(['B'])\n",
    "G.add_node('D')\n",
    "G.D.dependencies(['C'])\n",
    "G.add_node('E')\n",
    "G.E.dependencies(['B'])\n",
    "G.add_node('F')\n",
    "G.F.dependencies(['E'])\n",
    "G.add_node('Algo')\n",
    "G.Algo.dependencies(['F','D'])"
   ]
  },
  {
   "cell_type": "code",
   "execution_count": 4,
   "metadata": {
    "collapsed": true
   },
   "outputs": [],
   "source": [
    "from qcodes.tests.instrument_mocks import DummyInstrument"
   ]
  },
  {
   "cell_type": "code",
   "execution_count": 4,
   "metadata": {
    "collapsed": false
   },
   "outputs": [],
   "source": [
    "nxG = vis.snapshot_to_nxGraph(G.snapshot())\n",
    "\n",
    "G.A.state('good')\n",
    "\n",
    "G.B.state('good')\n",
    "\n",
    "G.C.state('active')\n",
    "\n",
    "G.D.state('needs calibration')"
   ]
  },
  {
   "cell_type": "code",
   "execution_count": 2,
   "metadata": {
    "collapsed": true
   },
   "outputs": [],
   "source": [
    "from importlib import reload"
   ]
  },
  {
   "cell_type": "code",
   "execution_count": 125,
   "metadata": {
    "collapsed": false
   },
   "outputs": [],
   "source": [
    "import pyqtgraph as pg\n",
    "from pyqtgraph.Qt import QtCore, QtGui\n",
    "import numpy as np\n",
    "\n",
    "from autodepgraph.pg_visualization import pg_GraphItem as pgG\n",
    "reload(pgG)\n",
    "# Enable antialiasing for prettier plots\n",
    "pg.setConfigOptions(antialias=True)\n",
    "\n",
    "w = pg.GraphicsWindow()\n",
    "w.setBackground('w')\n",
    "w.setWindowTitle('pyqtgraph example: DirectedGraphItem')\n",
    "v = w.addViewBox()\n",
    "v.setAspectLocked()\n",
    "\n",
    "g = pgG.DirectedGraphItem()\n",
    "# g = pg.GraphItem()\n",
    "v.addItem(g)\n",
    "\n",
    "# Get the node positions \n",
    "pos = vis.nx.nx_agraph.graphviz_layout(nxG)\n",
    "pos_p = np.array(list(pos.values()))\n",
    "\n",
    "# Convert the adjacency to integers \n",
    "adj = []\n",
    "for child, parent in nxG.edges():\n",
    "    child_idx = nxG.nodes().index(child)\n",
    "    parent_idx = nxG.nodes().index(parent)\n",
    "    adj.append([child_idx, parent_idx])\n",
    "adj = np.array(adj)\n",
    "\n",
    "## Define the symbol to use for each node\n",
    "symbols = ['o']*len(pos_p)\n",
    "\n",
    "# Get colors like states \n",
    "cm = vis.get_state_col_map(G.snapshot())\n",
    "colors_list = [pg.mkBrush(cm[node]) for node in nxG.nodes()]\n",
    "\n",
    "g.setData(pos=np.array(pos_p), adj=adj, size=20, symbol=symbols,\n",
    "          labels=list(nxG.nodes()), pen=(60, 60, 60),\n",
    "          symbolBrush=colors_list, pxMode=False)\n",
    "\n",
    "\n",
    "\n",
    "## Start Qt event loop unless running in interactive mode or using pyside.\n",
    "if __name__ == '__main__':\n",
    "    import sys\n",
    "    if (sys.flags.interactive != 1) or not hasattr(QtCore, 'PYQT_VERSION'):\n",
    "        QtGui.QApplication.instance().exec_()\n"
   ]
  },
  {
   "cell_type": "code",
   "execution_count": 66,
   "metadata": {
    "collapsed": true
   },
   "outputs": [],
   "source": [
    "pg.ArrowItem?\n"
   ]
  },
  {
   "cell_type": "code",
   "execution_count": 56,
   "metadata": {
    "collapsed": false
   },
   "outputs": [
    {
     "data": {
      "text/plain": [
       "[<matplotlib.lines.Line2D at 0x1185d7d30>]"
      ]
     },
     "execution_count": 56,
     "metadata": {},
     "output_type": "execute_result"
    },
    {
     "data": {
      "image/png": "[encoded data removed]",
      "text/plain": [
       "<matplotlib.figure.Figure at 0x11e6a1be0>"
      ]
     },
     "metadata": {},
     "output_type": "display_data"
    }
   ],
   "source": [
    "import matplotlib.pyplot as plt\n",
    "%matplotlib inline\n",
    "plt.plot([57.956, 130.23],[-21.3, -47.841])"
   ]
  },
  {
   "cell_type": "code",
   "execution_count": 78,
   "metadata": {
    "collapsed": false
   },
   "outputs": [],
   "source": [
    "ch = 57.956+1j*-21.3\n",
    "par = 130.23+1j*-47.841"
   ]
  },
  {
   "cell_type": "code",
   "execution_count": 86,
   "metadata": {
    "collapsed": false
   },
   "outputs": [],
   "source": [
    "vec = (par-ch)"
   ]
  },
  {
   "cell_type": "code",
   "execution_count": 98,
   "metadata": {
    "collapsed": false
   },
   "outputs": [
    {
     "ename": "AttributeError",
     "evalue": "module 'numpy' has no attribute 'norm'",
     "output_type": "error",
     "traceback": [
      "\u001b[0;31m---------------------------------------------------------------------------\u001b[0m",
      "\u001b[0;31mAttributeError\u001b[0m                            Traceback (most recent call last)",
      "\u001b[0;32m<ipython-input-98-b4efcbd39b3d>\u001b[0m in \u001b[0;36m<module>\u001b[0;34m()\u001b[0m\n\u001b[0;32m----> 1\u001b[0;31m \u001b[0mnp\u001b[0m\u001b[0;34m.\u001b[0m\u001b[0mnorm\u001b[0m\u001b[0;34m(\u001b[0m\u001b[0mvec\u001b[0m\u001b[0;34m)\u001b[0m\u001b[0;34m\u001b[0m\u001b[0m\n\u001b[0m",
      "\u001b[0;31mAttributeError\u001b[0m: module 'numpy' has no attribute 'norm'"
     ]
    }
   ],
   "source": [
    "(vec)\n"
   ]
  },
  {
   "cell_type": "code",
   "execution_count": 87,
   "metadata": {
    "collapsed": false
   },
   "outputs": [
    {
     "data": {
      "text/plain": [
       "-20.164623273581711"
      ]
     },
     "execution_count": 87,
     "metadata": {},
     "output_type": "execute_result"
    }
   ],
   "source": [
    "np.rad2deg(np.angle(vec))"
   ]
  },
  {
   "cell_type": "code",
   "execution_count": 52,
   "metadata": {
    "collapsed": false,
    "scrolled": true
   },
   "outputs": [
    {
     "data": {
      "text/plain": [
       "-69.835376726418303"
      ]
     },
     "execution_count": 52,
     "metadata": {},
     "output_type": "execute_result"
    }
   ],
   "source": [
    "np.rad2deg(np.arctan((57.956 - 130.23)/(-21.3+47.841)))"
   ]
  },
  {
   "cell_type": "code",
   "execution_count": null,
   "metadata": {
    "collapsed": true
   },
   "outputs": [],
   "source": []
  }
 ],
 "metadata": {
  "kernelspec": {
   "display_name": "Python 3",
   "language": "python",
   "name": "python3"
  },
  "language_info": {
   "codemirror_mode": {
    "name": "ipython",
    "version": 3
   },
   "file_extension": ".py",
   "mimetype": "text/x-python",
   "name": "python",
   "nbconvert_exporter": "python",
   "pygments_lexer": "ipython3",
   "version": "3.6.0"
  }
 },
 "nbformat": 4,
 "nbformat_minor": 2
}
