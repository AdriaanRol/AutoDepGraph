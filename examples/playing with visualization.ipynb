{
 "cells": [
  {
   "cell_type": "code",
   "execution_count": 1,
   "metadata": {
    "collapsed": false,
    "scrolled": true
   },
   "outputs": [],
   "source": [
    "\n",
    "from autodepgraph.graph import Graph\n",
    "from autodepgraph import visualization as vis\n",
    "G = Graph('G')\n",
    "\n",
    "\n",
    "G.add_node('A')\n",
    "G.add_node('B')\n",
    "G.B.dependencies(['A'])\n",
    "G.add_node('C')\n",
    "G.C.dependencies(['B'])\n",
    "G.add_node('D')\n",
    "G.D.dependencies(['C'])\n",
    "G.add_node('E')\n",
    "G.E.dependencies(['B'])\n",
    "G.add_node('F')\n",
    "G.F.dependencies(['E'])\n",
    "G.add_node('Algo')\n",
    "G.Algo.dependencies(['F','D'])"
   ]
  },
  {
   "cell_type": "code",
   "execution_count": 2,
   "metadata": {
    "collapsed": false
   },
   "outputs": [
    {
     "data": {
      "text/plain": [
       "['mock', 'instr']"
      ]
     },
     "execution_count": 2,
     "metadata": {},
     "output_type": "execute_result"
    }
   ],
   "source": [
    "'mock.instr'.split('.')"
   ]
  },
  {
   "cell_type": "code",
   "execution_count": 3,
   "metadata": {
    "collapsed": true
   },
   "outputs": [],
   "source": [
    "from qcodes.tests.instrument_mocks import DummyInstrument"
   ]
  },
  {
   "cell_type": "code",
   "execution_count": 4,
   "metadata": {
    "collapsed": false
   },
   "outputs": [],
   "source": [
    "nxG = vis.snapshot_to_nxGraph(G.snapshot())"
   ]
  },
  {
   "cell_type": "code",
   "execution_count": 5,
   "metadata": {
    "collapsed": true
   },
   "outputs": [],
   "source": [
    "pos = vis.nx.layout.fruchterman_reingold_layout?"
   ]
  },
  {
   "cell_type": "code",
   "execution_count": null,
   "metadata": {
    "collapsed": true
   },
   "outputs": [],
   "source": [
    "pos = vis.nx.layout.fruchterman_reingold_layout"
   ]
  },
  {
   "cell_type": "code",
   "execution_count": 6,
   "metadata": {
    "collapsed": true
   },
   "outputs": [],
   "source": [
    "pos = vis.nx.layout.fruchterman_reingold_layout"
   ]
  },
  {
   "cell_type": "code",
   "execution_count": 7,
   "metadata": {
    "collapsed": false
   },
   "outputs": [],
   "source": [
    "pos = vis.nx.layout.spring_layout(nxG)\n",
    "pos_p = [v for v in pos.values()]\n",
    "# nodes = "
   ]
  },
  {
   "cell_type": "code",
   "execution_count": 8,
   "metadata": {
    "collapsed": false
   },
   "outputs": [
    {
     "name": "stdout",
     "output_type": "stream",
     "text": [
      "('B', 'A')\n",
      "('C', 'B')\n",
      "('D', 'C')\n",
      "('E', 'B')\n",
      "('F', 'E')\n",
      "('Algo', 'F')\n",
      "('Algo', 'D')\n"
     ]
    },
    {
     "data": {
      "text/plain": [
       "[('B', 'A'),\n",
       " ('C', 'B'),\n",
       " ('D', 'C'),\n",
       " ('E', 'B'),\n",
       " ('F', 'E'),\n",
       " ('Algo', 'F'),\n",
       " ('Algo', 'D')]"
      ]
     },
     "execution_count": 8,
     "metadata": {},
     "output_type": "execute_result"
    }
   ],
   "source": [
    "for g in nxG.edges_iter():\n",
    "    print(g)\n",
    "\n",
    "    \n",
    "nxG.edges()"
   ]
  },
  {
   "cell_type": "code",
   "execution_count": 9,
   "metadata": {
    "collapsed": true
   },
   "outputs": [],
   "source": [
    "A = vis.nx.nx_agraph.graphviz_layout?"
   ]
  },
  {
   "cell_type": "code",
   "execution_count": 11,
   "metadata": {
    "collapsed": true
   },
   "outputs": [],
   "source": [
    "A = vis.nx.nx_agraph.graphviz_layout"
   ]
  },
  {
   "cell_type": "code",
   "execution_count": 13,
   "metadata": {
    "collapsed": false
   },
   "outputs": [],
   "source": [
    "pos = vis.nx.nx_agraph.graphviz_layout(nxG)"
   ]
  },
  {
   "cell_type": "code",
   "execution_count": 14,
   "metadata": {
    "collapsed": false
   },
   "outputs": [],
   "source": [
    "import networkx as nx"
   ]
  },
  {
   "cell_type": "code",
   "execution_count": 17,
   "metadata": {
    "collapsed": false
   },
   "outputs": [
    {
     "data": {
      "text/plain": [
       "['A', 'B', 'C', 'D', 'E', 'F', 'Algo']"
      ]
     },
     "execution_count": 17,
     "metadata": {},
     "output_type": "execute_result"
    }
   ],
   "source": [
    "nxG.nodes()"
   ]
  },
  {
   "cell_type": "code",
   "execution_count": 18,
   "metadata": {
    "collapsed": false
   },
   "outputs": [
    {
     "data": {
      "text/plain": [
       "[[], ['A'], ['B'], ['C'], ['B'], ['E'], ['F', 'D']]"
      ]
     },
     "execution_count": 18,
     "metadata": {},
     "output_type": "execute_result"
    }
   ],
   "source": [
    "nxG.adjacency_list()"
   ]
  },
  {
   "cell_type": "code",
   "execution_count": 19,
   "metadata": {
    "collapsed": true
   },
   "outputs": [],
   "source": [
    "import pyqtgraph as pg\n",
    "import pyqtgraph.multiprocess as pgmp"
   ]
  },
  {
   "cell_type": "code",
   "execution_count": 21,
   "metadata": {
    "collapsed": false
   },
   "outputs": [],
   "source": [
    "adj = []\n",
    "for child, parent in nxG.edges():\n",
    "    child_idx = nxG.nodes().index(child)\n",
    "    parent_idx = nxG.nodes().index(parent)\n",
    "    adj.append([child_idx, parent_idx])\n"
   ]
  },
  {
   "cell_type": "code",
   "execution_count": 22,
   "metadata": {
    "collapsed": false
   },
   "outputs": [
    {
     "data": {
      "text/plain": [
       "1"
      ]
     },
     "execution_count": 22,
     "metadata": {},
     "output_type": "execute_result"
    }
   ],
   "source": [
    "nxG.nodes().index('B')"
   ]
  },
  {
   "cell_type": "code",
   "execution_count": 26,
   "metadata": {
    "collapsed": true
   },
   "outputs": [],
   "source": [
    "import numpy as np"
   ]
  },
  {
   "cell_type": "code",
   "execution_count": 27,
   "metadata": {
    "collapsed": false
   },
   "outputs": [
    {
     "data": {
      "text/plain": [
       "array([[1, 0],\n",
       "       [2, 1],\n",
       "       [3, 2],\n",
       "       [4, 1],\n",
       "       [5, 4],\n",
       "       [6, 5],\n",
       "       [6, 3]])"
      ]
     },
     "execution_count": 27,
     "metadata": {},
     "output_type": "execute_result"
    }
   ],
   "source": [
    "adj = []\n",
    "for child, parent in nxG.edges():\n",
    "    child_idx = nxG.nodes().index(child)\n",
    "    parent_idx = nxG.nodes().index(parent)\n",
    "    adj.append([child_idx, parent_idx])\n",
    "adj = np.array(adj)\n",
    "adj"
   ]
  },
  {
   "cell_type": "code",
   "execution_count": 28,
   "metadata": {
    "collapsed": false,
    "scrolled": true
   },
   "outputs": [],
   "source": [
    "pos_p = np.array(list(pos.values()))\n",
    "# pos_p = [(130.23, -47.841), (57.956, -21.31), (-7.7918, -70.024), (-83.225, -42.204), (39.152, 58.322), (-36.23, 86.257), (-100.1, 36.8)]"
   ]
  },
  {
   "cell_type": "code",
   "execution_count": 29,
   "metadata": {
    "collapsed": true
   },
   "outputs": [],
   "source": [
    "import pyqtgraph as pg"
   ]
  },
  {
   "cell_type": "code",
   "execution_count": 30,
   "metadata": {
    "collapsed": false
   },
   "outputs": [
    {
     "data": {
      "text/plain": [
       "pyqtgraph.graphicsItems.GraphicsItem.GraphicsItem"
      ]
     },
     "execution_count": 30,
     "metadata": {},
     "output_type": "execute_result"
    }
   ],
   "source": [
    "pg.GraphicsItem"
   ]
  },
  {
   "cell_type": "code",
   "execution_count": null,
   "metadata": {
    "collapsed": false
   },
   "outputs": [],
   "source": []
  },
  {
   "cell_type": "code",
   "execution_count": 31,
   "metadata": {
    "collapsed": false
   },
   "outputs": [],
   "source": [
    "G.A.state('good')"
   ]
  },
  {
   "cell_type": "code",
   "execution_count": 32,
   "metadata": {
    "collapsed": true
   },
   "outputs": [],
   "source": [
    "G.B.state('good')"
   ]
  },
  {
   "cell_type": "code",
   "execution_count": 33,
   "metadata": {
    "collapsed": true
   },
   "outputs": [],
   "source": [
    "G.C.state('active')"
   ]
  },
  {
   "cell_type": "code",
   "execution_count": 34,
   "metadata": {
    "collapsed": true
   },
   "outputs": [],
   "source": [
    "G.D.state('needs calibration')"
   ]
  },
  {
   "cell_type": "code",
   "execution_count": 35,
   "metadata": {
    "collapsed": true
   },
   "outputs": [],
   "source": [
    "from importlib import reload"
   ]
  },
  {
   "cell_type": "code",
   "execution_count": null,
   "metadata": {
    "collapsed": false
   },
   "outputs": [],
   "source": [
    "import pyqtgraph as pg\n",
    "from pyqtgraph.Qt import QtCore, QtGui\n",
    "import numpy as np\n",
    "\n",
    "from autodepgraph.pg_visualization import pg_GraphItem as pgG\n",
    "reload(pgG)\n",
    "# Enable antialiasing for prettier plots\n",
    "pg.setConfigOptions(antialias=True)\n",
    "\n",
    "w = pg.GraphicsWindow()\n",
    "w.setBackground('w')\n",
    "w.setWindowTitle('pyqtgraph example: DirectedGraphItem')\n",
    "v = w.addViewBox()\n",
    "v.setAspectLocked()\n",
    "\n",
    "g = pgG.DirectedGraphItem()\n",
    "# g = pg.GraphItem()\n",
    "v.addItem(g)\n",
    "\n",
    "\n",
    "# Get the node positions \n",
    "pos = vis.nx.nx_agraph.graphviz_layout(nxG)\n",
    "pos_p = np.array(list(pos.values()))\n",
    "\n",
    "# Convert the adjacency to integers \n",
    "adj = []\n",
    "for child, parent in nxG.edges():\n",
    "    child_idx = nxG.nodes().index(child)\n",
    "    parent_idx = nxG.nodes().index(parent)\n",
    "    adj.append([child_idx, parent_idx])\n",
    "adj = np.array(adj)\n",
    "\n",
    "## Define the symbol to use for each node\n",
    "symbols = ['o']*len(pos_p)\n",
    "\n",
    "# Get colors like states \n",
    "cm = vis.get_state_col_map(G.snapshot())\n",
    "colors_list = [pg.mkBrush(cm[node]) for node in nxG.nodes()]\n",
    "\n",
    "g.setData(pos=np.array(pos_p), adj=adj, size=20, symbol=symbols,\n",
    "          labels=list(nxG.nodes()),\n",
    "          symbolBrush=colors_list, pxMode=False)\n",
    "\n",
    "\n",
    "\n",
    "## Start Qt event loop unless running in interactive mode or using pyside.\n",
    "if __name__ == '__main__':\n",
    "    import sys\n",
    "    if (sys.flags.interactive != 1) or not hasattr(QtCore, 'PYQT_VERSION'):\n",
    "        QtGui.QApplication.instance().exec_()\n"
   ]
  },
  {
   "cell_type": "code",
   "execution_count": 87,
   "metadata": {
    "collapsed": true
   },
   "outputs": [],
   "source": [
    "pg.ArrowItem?"
   ]
  },
  {
   "cell_type": "code",
   "execution_count": null,
   "metadata": {
    "collapsed": true
   },
   "outputs": [],
   "source": []
  }
 ],
 "metadata": {
  "kernelspec": {
   "display_name": "Python 3",
   "language": "python",
   "name": "python3"
  },
  "language_info": {
   "codemirror_mode": {
    "name": "ipython",
    "version": 3
   },
   "file_extension": ".py",
   "mimetype": "text/x-python",
   "name": "python",
   "nbconvert_exporter": "python",
   "pygments_lexer": "ipython3",
   "version": "3.6.0"
  }
 },
 "nbformat": 4,
 "nbformat_minor": 2
}
