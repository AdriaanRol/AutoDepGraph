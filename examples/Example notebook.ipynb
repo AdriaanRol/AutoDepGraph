{
 "cells": [
  {
   "cell_type": "markdown",
   "metadata": {},
   "source": [
    "\n",
    "# Example notebook\n",
    "\n",
    "This example will contain the following examples\n",
    "- Creating and saving a graph \n",
    "- Plotting the graph \n",
    "- Executing a node\n",
    "- Loading a graph from disk"
   ]
  },
  {
   "cell_type": "code",
   "execution_count": 1,
   "metadata": {},
   "outputs": [
    {
     "name": "stderr",
     "output_type": "stream",
     "text": [
      "/Users/Adriaan/anaconda/lib/python3.6/site-packages/h5py/__init__.py:36: FutureWarning: Conversion of the second argument of issubdtype from `float` to `np.floating` is deprecated. In future, it will be treated as `np.float64 == np.dtype(float).type`.\n",
      "  from ._conv import register_converters as _register_converters\n"
     ]
    }
   ],
   "source": [
    "%matplotlib inline\n",
    "import matplotlib.pyplot as plt\n",
    "import networkx as nx\n",
    "from importlib import reload\n",
    "import os\n",
    "import autodepgraph as adg\n",
    "from autodepgraph import  AutoDepGraph_DAG"
   ]
  },
  {
   "cell_type": "markdown",
   "metadata": {},
   "source": [
    "## Creatinga custom graph\n",
    "A graph can be instantiated and nodes can be added to the graph as with any `networkx` graph object. \n",
    "It is important to specify a `calibrat"
   ]
  },
  {
   "cell_type": "code",
   "execution_count": 48,
   "metadata": {},
   "outputs": [],
   "source": [
    "test_graph.add_node?"
   ]
  },
  {
   "cell_type": "code",
   "execution_count": 41,
   "metadata": {},
   "outputs": [],
   "source": [
    "cal_True_delayed=  'autodepgraph.node_functions.calibration_functions.test_calibration_True_delayed'\n",
    "test_graph = AutoDepGraph_DAG('test graph')\n",
    "for node in ['A', 'B', 'C', 'D', 'E']:\n",
    "    test_graph.add_node(node, \n",
    "                        calibrate_function=cal_True_delayed)"
   ]
  },
  {
   "cell_type": "markdown",
   "metadata": {},
   "source": [
    "Some nodes require other nodes to be in a `good` or calibrated state. Such dependencies are defined by setting edges in the graph. "
   ]
  },
  {
   "cell_type": "code",
   "execution_count": 42,
   "metadata": {},
   "outputs": [],
   "source": [
    "test_graph.add_edge('C', 'A')\n",
    "test_graph.add_edge('C', 'B')\n",
    "test_graph.add_edge('B', 'A')\n",
    "test_graph.add_edge('D', 'A')\n",
    "test_graph.add_edge('E', 'D')"
   ]
  },
  {
   "cell_type": "markdown",
   "metadata": {},
   "source": [
    "## Visualizing the graph\n",
    "We support two ways of visualizing graphs: \n",
    "- matplotlib in the notebook \n",
    "- an svg in an html page that updates in real-time"
   ]
  },
  {
   "cell_type": "markdown",
   "metadata": {},
   "source": [
    "### Realtime svg/html visualization "
   ]
  },
  {
   "cell_type": "code",
   "execution_count": 43,
   "metadata": {},
   "outputs": [
    {
     "data": {
      "text/plain": [
       "'/Users/Adriaan/GitHubRepos/DiCarloLab_Repositories/AutoDepGraph/autodepgraph/svg_viewer/adg_graph.svg'"
      ]
     },
     "execution_count": 43,
     "metadata": {},
     "output_type": "execute_result"
    }
   ],
   "source": [
    "# The default plotting mode is SVG \n",
    "test_graph.cfg_plot_mode = 'svg'\n",
    "# Updates the monitor, in this case the svg/html page\n",
    "test_graph.update_monitor()\n",
    "\n",
    "# Updating the monitor overwrites an svg file whose location is determined by the attribute:\n",
    "test_graph.cfg_svg_filename\n",
    "# This attribute can safely be overwritten"
   ]
  },
  {
   "cell_type": "code",
   "execution_count": 44,
   "metadata": {
    "scrolled": true
   },
   "outputs": [
    {
     "name": "stdout",
     "output_type": "stream",
     "text": [
      "/Users/Adriaan/GitHubRepos/DiCarloLab_Repositories/AutoDepGraph/autodepgraph/svg_viewer/svgviewer-6t2tj5gh.html\n"
     ]
    }
   ],
   "source": [
    "# The html page is located at the location specified by the url. \n",
    "# The page generated based on a template when the open_html_viewer command is called. \n",
    "url = test_graph.open_html_viewer()\n",
    "print(url)"
   ]
  },
  {
   "cell_type": "markdown",
   "metadata": {},
   "source": [
    "### Matplotlib drawing of the graph\n"
   ]
  },
  {
   "cell_type": "code",
   "execution_count": 45,
   "metadata": {},
   "outputs": [
    {
     "data": {
      "image/png": "[encoded data removed]",
      "text/plain": [
       "<Figure size 432x288 with 1 Axes>"
      ]
     },
     "metadata": {},
     "output_type": "display_data"
    }
   ],
   "source": [
    "\n",
    "\n",
    "# Alternatively a render in matplotlib can be drawn \n",
    "test_graph.draw_mpl()"
   ]
  },
  {
   "cell_type": "markdown",
   "metadata": {},
   "source": [
    "# Maintaining the graph "
   ]
  },
  {
   "cell_type": "code",
   "execution_count": 46,
   "metadata": {},
   "outputs": [],
   "source": [
    "test_graph.set_all_node_states('needs calibration')"
   ]
  },
  {
   "cell_type": "code",
   "execution_count": 39,
   "metadata": {},
   "outputs": [
    {
     "name": "stdout",
     "output_type": "stream",
     "text": [
      "Maintaining node \"B\".\n",
      "Maintaining node \"A\".\n",
      "\tCalibrating node A.\n",
      "\tCalibration of node A successful.\n",
      "\tCalibrating node B.\n",
      "\tCalibration of node B successful.\n"
     ]
    }
   ],
   "source": [
    "test_graph.maintain_B()"
   ]
  },
  {
   "cell_type": "code",
   "execution_count": 10,
   "metadata": {},
   "outputs": [
    {
     "data": {
      "image/png": "[encoded data removed]",
      "text/plain": [
       "<Figure size 432x288 with 1 Axes>"
      ]
     },
     "metadata": {},
     "output_type": "display_data"
    }
   ],
   "source": [
    "test_graph.draw_mpl()"
   ]
  },
  {
   "cell_type": "code",
   "execution_count": 11,
   "metadata": {},
   "outputs": [],
   "source": [
    "# Update the plotting monitor (default matplotlib) to show your graph\n",
    "test_graph.update_monitor()"
   ]
  },
  {
   "cell_type": "code",
   "execution_count": 12,
   "metadata": {},
   "outputs": [],
   "source": [
    "test_graph.set_all_node_states('needs calibration')"
   ]
  },
  {
   "cell_type": "code",
   "execution_count": 13,
   "metadata": {},
   "outputs": [
    {
     "name": "stdout",
     "output_type": "stream",
     "text": [
      "Maintaining node \"E\".\n",
      "Maintaining node \"D\".\n",
      "Maintaining node \"A\".\n",
      "\tCalibrating node A.\n",
      "\tCalibration of node A successful.\n",
      "\tCalibrating node D.\n",
      "\tCalibration of node D successful.\n",
      "\tCalibrating node E.\n",
      "\tCalibration of node E successful.\n"
     ]
    },
    {
     "data": {
      "text/plain": [
       "'good'"
      ]
     },
     "execution_count": 13,
     "metadata": {},
     "output_type": "execute_result"
    }
   ],
   "source": [
    "test_graph.maintain_node('E')"
   ]
  },
  {
   "cell_type": "markdown",
   "metadata": {},
   "source": [
    "### Three qubit example\n",
    "\n",
    "This example shows a more realistic graph. \n",
    "The examples below show ways of exploring the graph"
   ]
  },
  {
   "cell_type": "code",
   "execution_count": 59,
   "metadata": {},
   "outputs": [],
   "source": [
    "test_dir = os.path.join(adg.__path__[0], 'tests', 'test_data')\n",
    "fn = os.path.join(test_dir, 'three_qubit_graph.yaml')\n",
    "DAG = nx.readwrite.read_yaml(fn)"
   ]
  },
  {
   "cell_type": "markdown",
   "metadata": {},
   "source": [
    "\n",
    "### Reset the state of all nodes"
   ]
  },
  {
   "cell_type": "code",
   "execution_count": 60,
   "metadata": {},
   "outputs": [
    {
     "data": {
      "text/plain": [
       "{'calibrate_function': 'autodepgraph.node_functions.calibration_functions.test_calibration_True',\n",
       " 'check_function': 'autodepgraph.node_functions.check_functions.return_fixed_value',\n",
       " 'color': '#D3D3D3',\n",
       " 'fillcolor': '#D3D3D3',\n",
       " 'fixedsize': 'false',\n",
       " 'last_update': datetime.datetime(2018, 3, 17, 23, 44, 29, 972265),\n",
       " 'shape': 'ellipse',\n",
       " 'state': 'unknown',\n",
       " 'style': 'filled',\n",
       " 'timeout': inf,\n",
       " 'tolerance': 0}"
      ]
     },
     "execution_count": 60,
     "metadata": {},
     "output_type": "execute_result"
    }
   ],
   "source": [
    "DAG.node['CZ q0-q1']"
   ]
  },
  {
   "cell_type": "code",
   "execution_count": 61,
   "metadata": {},
   "outputs": [],
   "source": [
    "DAG.set_all_node_states('needs calibration')\n",
    "# DAG.set_all_node_states('unknown')\n",
    "DAG.update_monitor()"
   ]
  },
  {
   "cell_type": "code",
   "execution_count": 57,
   "metadata": {},
   "outputs": [],
   "source": [
    "DAG._construct_maintenance_methods(DAG.nodes.keys())"
   ]
  },
  {
   "cell_type": "code",
   "execution_count": 58,
   "metadata": {
    "scrolled": false
   },
   "outputs": [
    {
     "name": "stdout",
     "output_type": "stream",
     "text": [
      "Maintaining node \"CZ q0-q1\".\n",
      "Maintaining node \"Chevron q0-q1\".\n",
      "Maintaining node \"3 qubit device multiplexed readout\".\n",
      "Maintaining node \"q0 optimal weights\".\n",
      "Maintaining node \"q0 pulse amplitude med\".\n",
      "Maintaining node \"q0 frequency fine\".\n",
      "Maintaining node \"q0 pulse amplitude coarse\".\n",
      "Maintaining node \"AWG8 MW-staircase\".\n",
      "\tCalibrating node AWG8 MW-staircase.\n",
      "\tCalibration of node AWG8 MW-staircase successful.\n",
      "Maintaining node \"q0 frequency coarse\".\n",
      "Maintaining node \"q0 resonator frequency\".\n",
      "Maintaining node \"3 qubit device resonator frequencies coarse\".\n",
      "\tCalibrating node 3 qubit device resonator frequencies coarse.\n",
      "\tCalibration of node 3 qubit device resonator frequencies coarse successful.\n",
      "\tCalibrating node q0 resonator frequency.\n",
      "\tCalibration of node q0 resonator frequency successful.\n",
      "\tCalibrating node q0 frequency coarse.\n",
      "\tCalibration of node q0 frequency coarse successful.\n",
      "Maintaining node \"q0 mixer offsets drive\".\n",
      "\tCalibrating node q0 mixer offsets drive.\n",
      "\tCalibration of node q0 mixer offsets drive successful.\n",
      "Maintaining node \"q0 mixer offsets readout\".\n",
      "\tCalibrating node q0 mixer offsets readout.\n",
      "\tCalibration of node q0 mixer offsets readout successful.\n",
      "Maintaining node \"q0 mixer skewness drive\".\n",
      "\tCalibrating node q0 mixer skewness drive.\n",
      "\tCalibration of node q0 mixer skewness drive successful.\n",
      "\tCalibrating node q0 pulse amplitude coarse.\n",
      "\tCalibration of node q0 pulse amplitude coarse successful.\n",
      "\tCalibrating node q0 frequency fine.\n",
      "\tCalibration of node q0 frequency fine successful.\n",
      "\tCalibrating node q0 pulse amplitude med.\n",
      "\tCalibration of node q0 pulse amplitude med successful.\n",
      "\tCalibrating node q0 optimal weights.\n",
      "\tCalibration of node q0 optimal weights successful.\n",
      "Maintaining node \"q1 optimal weights\".\n",
      "Maintaining node \"q1 pulse amplitude med\".\n",
      "Maintaining node \"q1 frequency fine\".\n",
      "Maintaining node \"q1 pulse amplitude coarse\".\n",
      "Maintaining node \"q1 frequency coarse\".\n",
      "Maintaining node \"q1 resonator frequency\".\n",
      "\tCalibrating node q1 resonator frequency.\n",
      "\tCalibration of node q1 resonator frequency successful.\n",
      "\tCalibrating node q1 frequency coarse.\n",
      "\tCalibration of node q1 frequency coarse successful.\n",
      "Maintaining node \"q1 mixer offsets drive\".\n",
      "\tCalibrating node q1 mixer offsets drive.\n",
      "\tCalibration of node q1 mixer offsets drive successful.\n",
      "Maintaining node \"q1 mixer offsets readout\".\n",
      "\tCalibrating node q1 mixer offsets readout.\n",
      "\tCalibration of node q1 mixer offsets readout successful.\n",
      "Maintaining node \"q1 mixer skewness drive\".\n",
      "\tCalibrating node q1 mixer skewness drive.\n",
      "\tCalibration of node q1 mixer skewness drive successful.\n",
      "\tCalibrating node q1 pulse amplitude coarse.\n",
      "\tCalibration of node q1 pulse amplitude coarse successful.\n",
      "\tCalibrating node q1 frequency fine.\n",
      "\tCalibration of node q1 frequency fine successful.\n",
      "\tCalibrating node q1 pulse amplitude med.\n",
      "\tCalibration of node q1 pulse amplitude med successful.\n",
      "\tCalibrating node q1 optimal weights.\n",
      "\tCalibration of node q1 optimal weights successful.\n",
      "Maintaining node \"q2 optimal weights\".\n",
      "Maintaining node \"q2 pulse amplitude med\".\n",
      "Maintaining node \"q2 frequency fine\".\n",
      "Maintaining node \"q2 pulse amplitude coarse\".\n",
      "Maintaining node \"q2 frequency coarse\".\n",
      "Maintaining node \"q2 resonator frequency\".\n",
      "\tCalibrating node q2 resonator frequency.\n",
      "\tCalibration of node q2 resonator frequency successful.\n",
      "\tCalibrating node q2 frequency coarse.\n",
      "\tCalibration of node q2 frequency coarse successful.\n",
      "Maintaining node \"q2 mixer offsets drive\".\n",
      "\tCalibrating node q2 mixer offsets drive.\n",
      "\tCalibration of node q2 mixer offsets drive successful.\n",
      "Maintaining node \"q2 mixer offsets readout\".\n",
      "\tCalibrating node q2 mixer offsets readout.\n",
      "\tCalibration of node q2 mixer offsets readout successful.\n",
      "Maintaining node \"q2 mixer skewness drive\".\n",
      "\tCalibrating node q2 mixer skewness drive.\n",
      "\tCalibration of node q2 mixer skewness drive successful.\n",
      "\tCalibrating node q2 pulse amplitude coarse.\n",
      "\tCalibration of node q2 pulse amplitude coarse successful.\n",
      "\tCalibrating node q2 frequency fine.\n",
      "\tCalibration of node q2 frequency fine successful.\n",
      "\tCalibrating node q2 pulse amplitude med.\n",
      "\tCalibration of node q2 pulse amplitude med successful.\n",
      "\tCalibrating node q2 optimal weights.\n",
      "\tCalibration of node q2 optimal weights successful.\n",
      "\tCalibrating node 3 qubit device multiplexed readout.\n",
      "\tCalibration of node 3 qubit device multiplexed readout successful.\n",
      "Maintaining node \"AWG8 Flux-staircase\".\n",
      "\tCalibrating node AWG8 Flux-staircase.\n",
      "\tCalibration of node AWG8 Flux-staircase successful.\n",
      "Maintaining node \"q0 gates restless\".\n",
      "\tCalibrating node q0 gates restless.\n",
      "\tCalibration of node q0 gates restless successful.\n",
      "Maintaining node \"q1 gates restless\".\n",
      "\tCalibrating node q1 gates restless.\n",
      "\tCalibration of node q1 gates restless successful.\n",
      "\tCalibrating node Chevron q0-q1.\n",
      "\tCalibration of node Chevron q0-q1 successful.\n",
      "Maintaining node \"q0 cryo dist. corr.\".\n",
      "Maintaining node \"q0 room temp. dist. corr.\".\n",
      "\tCalibrating node q0 room temp. dist. corr..\n",
      "\tCalibration of node q0 room temp. dist. corr. successful.\n",
      "\tCalibrating node q0 cryo dist. corr..\n",
      "\tCalibration of node q0 cryo dist. corr. successful.\n",
      "Maintaining node \"q1 cryo dist. corr.\".\n",
      "Maintaining node \"q1 room temp. dist. corr.\".\n",
      "\tCalibrating node q1 room temp. dist. corr..\n",
      "\tCalibration of node q1 room temp. dist. corr. successful.\n",
      "\tCalibrating node q1 cryo dist. corr..\n",
      "\tCalibration of node q1 cryo dist. corr. successful.\n",
      "\tCalibrating node CZ q0-q1.\n",
      "\tCalibration of node CZ q0-q1 successful.\n"
     ]
    }
   ],
   "source": [
    "DAG.maintain_CZ_q0_q1()"
   ]
  }
 ],
 "metadata": {
  "kernelspec": {
   "display_name": "Python 3",
   "language": "python",
   "name": "python3"
  },
  "language_info": {
   "codemirror_mode": {
    "name": "ipython",
    "version": 3
   },
   "file_extension": ".py",
   "mimetype": "text/x-python",
   "name": "python",
   "nbconvert_exporter": "python",
   "pygments_lexer": "ipython3",
   "version": "3.6.5"
  }
 },
 "nbformat": 4,
 "nbformat_minor": 2
}
