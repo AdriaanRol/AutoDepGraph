{
 "cells": [
  {
   "cell_type": "markdown",
   "metadata": {
    "deletable": true,
    "editable": true
   },
   "source": [
    "\n",
    "# Example notebook\n",
    "\n",
    "This example will contain the following examples\n",
    "- Creating and saving a graph \n",
    "- Plotting the graph \n",
    "- Executing a node\n",
    "- Loading a graph from disk"
   ]
  },
  {
   "cell_type": "code",
   "execution_count": 1,
   "metadata": {
    "collapsed": false,
    "deletable": true,
    "editable": true
   },
   "outputs": [
    {
     "name": "stdout",
     "output_type": "stream",
     "text": [
      "Using matplotlib backend: MacOSX\n"
     ]
    }
   ],
   "source": [
    "from importlib import reload\n",
    "%matplotlib\n",
    "import os\n",
    "import autodepgraph as adg\n",
    "from autodepgraph.graph import Graph\n",
    "\n"
   ]
  },
  {
   "cell_type": "markdown",
   "metadata": {
    "deletable": true,
    "editable": true
   },
   "source": [
    "## Creatinga custom graph\n",
    "A graph can be instantiated"
   ]
  },
  {
   "cell_type": "code",
   "execution_count": 2,
   "metadata": {
    "collapsed": false,
    "deletable": true,
    "editable": true
   },
   "outputs": [],
   "source": [
    "test_graph = Graph('test_graph')\n",
    "test_graph.add_node('A')\n",
    "test_graph.add_node('B')\n",
    "test_graph.add_node('C')"
   ]
  },
  {
   "cell_type": "markdown",
   "metadata": {
    "deletable": true,
    "editable": true
   },
   "source": [
    "Set the dependencies as a list of nodenames. The nodes which a node `A` depends on are called `A.parents()`. The nodes which depend on a node `B` are called `B.children()`."
   ]
  },
  {
   "cell_type": "code",
   "execution_count": 3,
   "metadata": {
    "collapsed": false,
    "deletable": true,
    "editable": true
   },
   "outputs": [],
   "source": [
    "test_graph.C.parents(['A', 'B'])\n",
    "test_graph.B.parents(['A'])"
   ]
  },
  {
   "cell_type": "code",
   "execution_count": 4,
   "metadata": {
    "collapsed": false,
    "deletable": true,
    "editable": true
   },
   "outputs": [],
   "source": [
    "# import time\n",
    "import matplotlib.pyplot as plt\n",
    "# Define some custom function to perform a check \n",
    "def my_check_function():\n",
    "    print(\"Hello\")\n",
    "    plt.pause(2)\n",
    "    return 'needs calibration'\n",
    "# Add it to the adg.node_functions module to make it available to nodes\n",
    "adg.node_functions.check_functions.my_check_function = my_check_function"
   ]
  },
  {
   "cell_type": "code",
   "execution_count": 5,
   "metadata": {
    "collapsed": false,
    "deletable": true,
    "editable": true
   },
   "outputs": [],
   "source": [
    "for node in test_graph.nodes.values():\n",
    "    node.check_functions(['my_check_function'])\n",
    "#     node.check_functions([['test_check_needs_calibration'])\n",
    "    node.calibrate_functions(['test_calibration_True_delayed'])"
   ]
  },
  {
   "cell_type": "code",
   "execution_count": 6,
   "metadata": {
    "collapsed": true,
    "deletable": true,
    "editable": true
   },
   "outputs": [],
   "source": [
    "# Update the plotting monitor (default matplotlib) to show your graph\n",
    "test_graph.update_monitor()"
   ]
  },
  {
   "cell_type": "code",
   "execution_count": 7,
   "metadata": {
    "collapsed": false,
    "deletable": true,
    "editable": true,
    "scrolled": false
   },
   "outputs": [
    {
     "name": "stdout",
     "output_type": "stream",
     "text": [
      "Executing node \"C\".\n",
      "Executing node \"A\".\n",
      "\tCalibrating node A.\n",
      "\tCalibration of node A successful: True\n",
      "Executing node \"B\".\n",
      "\tCalibrating node B.\n",
      "\tCalibration of node B successful: True\n",
      "\tChecking node C.\n",
      "Hello\n",
      "\tNeeds C calibration: True\n",
      "\tNode C broken: False\n",
      "\tCalibrating node C.\n",
      "\tCalibration of node C successful: True\n"
     ]
    },
    {
     "data": {
      "text/plain": [
       "'good'"
      ]
     },
     "execution_count": 7,
     "metadata": {},
     "output_type": "execute_result"
    }
   ],
   "source": [
    "# Execute your graph \n",
    "test_graph.clear_node_state()\n",
    "test_graph.B.state('needs calibration')\n",
    "test_graph.A.state('needs calibration')\n",
    "test_graph.update_monitor()\n",
    "\n",
    "test_graph.C(verbose=True)"
   ]
  },
  {
   "cell_type": "markdown",
   "metadata": {
    "deletable": true,
    "editable": true
   },
   "source": [
    "### Rabi model calibrations example\n",
    "\n",
    "This example shows a bit more realistic graph. "
   ]
  },
  {
   "cell_type": "code",
   "execution_count": 8,
   "metadata": {
    "collapsed": false,
    "deletable": true,
    "editable": true
   },
   "outputs": [],
   "source": [
    "test_dir = os.path.join(adg.__path__[0], 'tests', 'test_data')\n",
    "fn = os.path.join(test_dir, 'rabi_sims_example.yaml')\n"
   ]
  },
  {
   "cell_type": "code",
   "execution_count": 9,
   "metadata": {
    "collapsed": false,
    "deletable": true,
    "editable": true
   },
   "outputs": [],
   "source": [
    "try: \n",
    "    Rabi_model_graph = Graph('Rabi_model_graph')\n",
    "except KeyError: \n",
    "    pass\n",
    "rmg = Rabi_model_graph\n",
    "rmg.load_graph(fn)"
   ]
  },
  {
   "cell_type": "markdown",
   "metadata": {
    "deletable": true,
    "editable": true
   },
   "source": [
    "### The layout can be changed by resetting the node pos"
   ]
  },
  {
   "cell_type": "code",
   "execution_count": 12,
   "metadata": {
    "collapsed": true,
    "deletable": true,
    "editable": true
   },
   "outputs": [],
   "source": [
    "rmg._node_pos=None # This resets the positions of nodes \n",
    "rmg.update_monitor()"
   ]
  },
  {
   "cell_type": "markdown",
   "metadata": {
    "deletable": true,
    "editable": true
   },
   "source": [
    "### Reset the state of all nodes"
   ]
  },
  {
   "cell_type": "code",
   "execution_count": 13,
   "metadata": {
    "collapsed": true,
    "deletable": true,
    "editable": true
   },
   "outputs": [],
   "source": [
    "rmg.clear_node_state()\n",
    "for node in rmg.nodes.values():\n",
    "    node.state('needs calibration')\n",
    "rmg.update_monitor()"
   ]
  },
  {
   "cell_type": "code",
   "execution_count": 14,
   "metadata": {
    "collapsed": false,
    "deletable": true,
    "editable": true
   },
   "outputs": [
    {
     "name": "stdout",
     "output_type": "stream",
     "text": [
      "Executing node \"High_fidelity_single_qubit_gate\".\n",
      "Executing node \"Amplitude_fine\".\n",
      "Executing node \"Motzoi\".\n",
      "Executing node \"Amplitude_coarse\".\n",
      "Executing node \"frequency_spec\".\n",
      "\tCalibrating node frequency_spec.\n",
      "\tCalibration of node frequency_spec successful: True\n",
      "Executing node \"mixer_skewness\".\n",
      "Executing node \"mixer_offset\".\n",
      "\tCalibrating node mixer_offset.\n",
      "\tCalibration of node mixer_offset successful: True\n",
      "\tCalibrating node mixer_skewness.\n",
      "\tCalibration of node mixer_skewness successful: True\n",
      "\tCalibrating node Amplitude_coarse.\n",
      "\tCalibration of node Amplitude_coarse successful: True\n",
      "Executing node \"frequency_ramsey\".\n",
      "Executing node \"SSRO\".\n",
      "\tCalibrating node SSRO.\n",
      "\tCalibration of node SSRO successful: True\n",
      "\tCalibrating node frequency_ramsey.\n",
      "\tCalibration of node frequency_ramsey successful: True\n",
      "\tCalibrating node Motzoi.\n",
      "\tCalibration of node Motzoi successful: True\n",
      "\tCalibrating node Amplitude_fine.\n",
      "\tCalibration of node Amplitude_fine successful: True\n",
      "\tCalibrating node High_fidelity_single_qubit_gate.\n",
      "\tCalibration of node High_fidelity_single_qubit_gate successful: True\n"
     ]
    },
    {
     "data": {
      "text/plain": [
       "'good'"
      ]
     },
     "execution_count": 14,
     "metadata": {},
     "output_type": "execute_result"
    }
   ],
   "source": [
    "rmg.High_fidelity_single_qubit_gate(verbose=True)\n"
   ]
  },
  {
   "cell_type": "markdown",
   "metadata": {
    "deletable": true,
    "editable": true
   },
   "source": [
    "## We can also artificially break one of the nodes and see how the calibration recovers"
   ]
  },
  {
   "cell_type": "code",
   "execution_count": 15,
   "metadata": {
    "collapsed": false,
    "deletable": true,
    "editable": true
   },
   "outputs": [],
   "source": [
    "def check_func_SSRO_dep():\n",
    "    if rmg.SSRO.state() != 'good':\n",
    "        return 'bad'\n",
    "    else:\n",
    "        return 'good'\n",
    "adg.node_functions.check_functions.check_func_SSRO_dep = check_func_SSRO_dep\n",
    "\n",
    "rmg.High_readout_fidelity.check_functions(\n",
    "    ['check_func_SSRO_dep'])\n",
    "rmg.Rabi_simulation.check_functions(\n",
    "    ['check_func_SSRO_dep'])"
   ]
  },
  {
   "cell_type": "code",
   "execution_count": 16,
   "metadata": {
    "collapsed": false,
    "deletable": true,
    "editable": true
   },
   "outputs": [],
   "source": [
    "# rmg.High_readout_fidelity.state('bad')\n",
    "rmg.SSRO.state('needs calibration')\n",
    "rmg.update_monitor()"
   ]
  },
  {
   "cell_type": "code",
   "execution_count": 17,
   "metadata": {
    "collapsed": false,
    "deletable": true,
    "editable": true
   },
   "outputs": [
    {
     "data": {
      "text/plain": [
       "'good'"
      ]
     },
     "execution_count": 17,
     "metadata": {},
     "output_type": "execute_result"
    }
   ],
   "source": [
    "rmg.Rabi_simulation()"
   ]
  },
  {
   "cell_type": "code",
   "execution_count": 18,
   "metadata": {
    "collapsed": false,
    "deletable": true,
    "editable": true
   },
   "outputs": [
    {
     "data": {
      "text/plain": [
       "'good'"
      ]
     },
     "execution_count": 18,
     "metadata": {},
     "output_type": "execute_result"
    }
   ],
   "source": [
    "rmg.High_readout_fidelity()"
   ]
  },
  {
   "cell_type": "code",
   "execution_count": null,
   "metadata": {
    "collapsed": true
   },
   "outputs": [],
   "source": []
  }
 ],
 "metadata": {
  "kernelspec": {
   "display_name": "Python 3",
   "language": "python",
   "name": "python3"
  },
  "language_info": {
   "codemirror_mode": {
    "name": "ipython",
    "version": 3
   },
   "file_extension": ".py",
   "mimetype": "text/x-python",
   "name": "python",
   "nbconvert_exporter": "python",
   "pygments_lexer": "ipython3",
   "version": "3.6.1"
  }
 },
 "nbformat": 4,
 "nbformat_minor": 2
}
