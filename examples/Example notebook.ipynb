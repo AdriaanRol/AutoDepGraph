{
 "cells": [
  {
   "cell_type": "markdown",
   "metadata": {},
   "source": [
    "\n",
    "# Example notebook\n",
    "\n",
    "This example will contain the following examples\n",
    "- Creating and saving a graph \n",
    "- Plotting the graph \n",
    "- Executing a node\n",
    "- Loading a graph from disk"
   ]
  },
  {
   "cell_type": "code",
   "execution_count": 1,
   "metadata": {
    "collapsed": false
   },
   "outputs": [
    {
     "name": "stdout",
     "output_type": "stream",
     "text": [
      "Using matplotlib backend: MacOSX\n"
     ]
    }
   ],
   "source": [
    "from importlib import reload\n",
    "%matplotlib\n",
    "import os\n",
    "import autodepgraph as adg\n",
    "from autodepgraph.graph import Graph\n",
    "\n"
   ]
  },
  {
   "cell_type": "markdown",
   "metadata": {},
   "source": [
    "## Creatinga custom graph\n",
    "A graph can be instantiated"
   ]
  },
  {
   "cell_type": "code",
   "execution_count": 2,
   "metadata": {
    "collapsed": false
   },
   "outputs": [],
   "source": [
    "test_graph = Graph('test_graph')\n",
    "test_graph.add_node('A')\n",
    "test_graph.add_node('B')\n",
    "test_graph.add_node('C')"
   ]
  },
  {
   "cell_type": "markdown",
   "metadata": {},
   "source": [
    "Set the dependencies as a list of nodenames"
   ]
  },
  {
   "cell_type": "code",
   "execution_count": 3,
   "metadata": {
    "collapsed": true
   },
   "outputs": [],
   "source": [
    "\n",
    "test_graph.C.dependencies(['A', 'B'])\n",
    "test_graph.B.dependencies(['A'])"
   ]
  },
  {
   "cell_type": "code",
   "execution_count": 4,
   "metadata": {
    "collapsed": false
   },
   "outputs": [],
   "source": [
    "# import time\n",
    "import matplotlib.pyplot as plt\n",
    "# Define some custom function to perform a check \n",
    "def my_check_function():\n",
    "    print(\"Hello\")\n",
    "    plt.pause(2)\n",
    "    return 'needs calibration'\n",
    "# Add it to the adg.node_functions module to make it available to nodes\n",
    "adg.node_functions.check_functions.my_check_function = my_check_function"
   ]
  },
  {
   "cell_type": "code",
   "execution_count": 5,
   "metadata": {
    "collapsed": false
   },
   "outputs": [],
   "source": [
    "for node in test_graph.nodes.values():\n",
    "    node.check_functions(['my_check_function'])\n",
    "#     node.check_functions([['test_check_needs_calibration'])\n",
    "    node.calibrate_functions(['test_calibration_True_delayed'])"
   ]
  },
  {
   "cell_type": "code",
   "execution_count": 6,
   "metadata": {
    "collapsed": true
   },
   "outputs": [],
   "source": [
    "# Update the plotting monitor (default matplotlib) to show your graph\n",
    "test_graph.update_monitor()"
   ]
  },
  {
   "cell_type": "code",
   "execution_count": 7,
   "metadata": {
    "collapsed": false,
    "scrolled": false
   },
   "outputs": [
    {
     "name": "stdout",
     "output_type": "stream",
     "text": [
      "Executing node \"C\".\n",
      "\tChecking dependencies of node C.\n",
      "Executing node \"A\".\n",
      "\tChecking dependencies of node A.\n",
      "\tAll dependencies of node A satisfied: True\n",
      "\tChecking node A.\n",
      "Hello\n",
      "\tNeeds A calibration: True\n",
      "\tNode A broken: False\n",
      "\tCalibrating node A.\n",
      "\tCalibration of node A successful: True\n",
      "Executing node \"B\".\n",
      "\tChecking dependencies of node B.\n",
      "Executing node \"A\".\n",
      "\tAll dependencies of node B satisfied: True\n",
      "\tChecking node B.\n",
      "Hello\n",
      "\tNeeds B calibration: True\n",
      "\tNode B broken: False\n",
      "\tCalibrating node B.\n",
      "\tCalibration of node B successful: True\n",
      "\tAll dependencies of node C satisfied: True\n",
      "\tChecking node C.\n",
      "Hello\n",
      "\tNeeds C calibration: True\n",
      "\tNode C broken: False\n",
      "\tCalibrating node C.\n",
      "\tCalibration of node C successful: True\n"
     ]
    },
    {
     "data": {
      "text/plain": [
       "'good'"
      ]
     },
     "execution_count": 7,
     "metadata": {},
     "output_type": "execute_result"
    }
   ],
   "source": [
    "# Execute your graph \n",
    "test_graph.clear_node_state()\n",
    "test_graph.update_monitor()\n",
    "\n",
    "test_graph.C(verbose=True)"
   ]
  },
  {
   "cell_type": "markdown",
   "metadata": {},
   "source": [
    "### Rabi model calibrations example\n",
    "\n",
    "This example shows a bit more realistic graph. "
   ]
  },
  {
   "cell_type": "code",
   "execution_count": 9,
   "metadata": {
    "collapsed": false
   },
   "outputs": [],
   "source": [
    "test_dir = os.path.join(adg.__path__[0], 'tests', 'test_data')\n",
    "fn = os.path.join(test_dir, 'rabi_sims_example.yaml')\n"
   ]
  },
  {
   "cell_type": "code",
   "execution_count": 10,
   "metadata": {
    "collapsed": false
   },
   "outputs": [],
   "source": [
    "try: \n",
    "    Rabi_model_graph = Graph('Rabi_model_graph')\n",
    "except KeyError: \n",
    "    pass\n",
    "rmg = Rabi_model_graph\n",
    "rmg.load_graph(fn)"
   ]
  },
  {
   "cell_type": "code",
   "execution_count": 11,
   "metadata": {
    "collapsed": true
   },
   "outputs": [],
   "source": [
    "rmg.clear_node_state()"
   ]
  },
  {
   "cell_type": "code",
   "execution_count": 13,
   "metadata": {
    "collapsed": true
   },
   "outputs": [],
   "source": [
    "rmg._node_pos=None # This resets the positions of nodes \n",
    "rmg.update_monitor()"
   ]
  },
  {
   "cell_type": "code",
   "execution_count": 14,
   "metadata": {
    "collapsed": false,
    "scrolled": false
   },
   "outputs": [
    {
     "data": {
      "text/plain": [
       "'good'"
      ]
     },
     "execution_count": 14,
     "metadata": {},
     "output_type": "execute_result"
    }
   ],
   "source": [
    "rmg.clear_node_state()\n",
    "# rmg.High_fidelity_single_qubit_gate(verbose=True)\n",
    "rmg.Rabi_simulation()"
   ]
  }
 ],
 "metadata": {
  "kernelspec": {
   "display_name": "Python 3",
   "language": "python",
   "name": "python3"
  },
  "language_info": {
   "codemirror_mode": {
    "name": "ipython",
    "version": 3
   },
   "file_extension": ".py",
   "mimetype": "text/x-python",
   "name": "python",
   "nbconvert_exporter": "python",
   "pygments_lexer": "ipython3",
   "version": "3.6.0"
  }
 },
 "nbformat": 4,
 "nbformat_minor": 2
}
